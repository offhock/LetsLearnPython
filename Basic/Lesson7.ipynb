{
 "cells": [
  {
   "cell_type": "markdown",
   "metadata": {},
   "source": [
    "# 함수 \n",
    "\n",
    "특정 기능을 루틴별로 작성해 놓은 것\n",
    "\n",
    "* 장점\n",
    "  * 업무 단위의 모듈화를 통해 논리를 단순화\n",
    "  * 재사용이 가능하므로 효율성 좋음\n",
    "\n",
    "\n",
    "```python\n",
    "def 함수명(인수들):\n",
    "    처리할 문장들\n",
    "    return 반환값\n",
    "```\n",
    "\n",
    "> 주의:   \n",
    "> 함수명은 변수명 작성 규칙과 동일   \n",
    "> 사용문장 앞서 선언  \n",
    "> 함수내 변수와 밖의 변수 혼동 피해야함."
   ]
  },
  {
   "cell_type": "code",
   "execution_count": 4,
   "metadata": {},
   "outputs": [
    {
     "name": "stdout",
     "output_type": "stream",
     "text": [
      "   4  나누기  9  는 0.4444444444444444  입니다.\n",
      "종료합니다.\n"
     ]
    }
   ],
   "source": [
    "# 함수 만들기\n",
    "# 두숫자를 전달 받아 나눗셈 결과를 반화하는 함수\n",
    "def division(x,y):\n",
    "    if int(y) == 0:\n",
    "        res = '불능'\n",
    "    else:\n",
    "        res = int(x) / int(y)\n",
    "    return res\n",
    "\n",
    "# 두 입력 변수가 숫자이면 false 반환\n",
    "def end_check(x,y):\n",
    "    if x.isnumeric() and y.isnumeric():\n",
    "        return False\n",
    "    else:\n",
    "        return True\n",
    "\n",
    "while True:\n",
    "    a = input(\"입력1\")\n",
    "    b = input(\"입력2\")\n",
    "\n",
    "    if end_check(a,b):\n",
    "        print (\"종료합니다.\")\n",
    "        break\n",
    "    k= division(a,b)\n",
    "    print(\"   {}  나누기  {}  는 {}  입니다.\".format(a,b,k))\n",
    "\n",
    "\n"
   ]
  },
  {
   "cell_type": "markdown",
   "metadata": {},
   "source": [
    "## 함수 반환값의 패킹\n",
    "\n",
    "``` python\n",
    "# 두수가 들어오면,\n",
    "# 합,차,곱,나눗셈 결과를 반환하는 함수 작성\n",
    "def my_com(x,y):\n",
    "    ad= x + y\n",
    "    sb= x - y\n",
    "    mt= x * y\n",
    "    if y !=0:\n",
    "        dv= x / y\n",
    "    else:\n",
    "        dv= '불능'\n",
    "    return (ad, sb, mt, dv)             # 튜플로 패킹 반환\n",
    "\n",
    "\n",
    "```"
   ]
  },
  {
   "cell_type": "code",
   "execution_count": null,
   "metadata": {},
   "outputs": [],
   "source": []
  },
  {
   "cell_type": "markdown",
   "metadata": {},
   "source": [
    "# 본체와 함수간 데이터 흐름\n",
    "\n",
    "1. 전역에서 지역변수를 사용할 수 있나 ? X\n",
    "2. 함수지역에서 전역 변수를 사용할 수 있나? O \n",
    "3. 함수에서 전역의 리스트 **요소**는 변경 가능하다. O\n",
    "4. 리스트 **요소**는 전역이든, 함수 인수로 넘기든 변경 가능하다. O\n",
    "\n"
   ]
  },
  {
   "cell_type": "code",
   "execution_count": 8,
   "metadata": {},
   "outputs": [
    {
     "name": "stdout",
     "output_type": "stream",
     "text": [
      "20 100\n",
      "10 100\n"
     ]
    }
   ],
   "source": [
    "def func():\n",
    "    a=20\n",
    "    print(a,b)\n",
    "a=10; b=100\n",
    "func()\n",
    "print(a,b)"
   ]
  },
  {
   "cell_type": "markdown",
   "metadata": {},
   "source": [
    "## 인수의 기본값 정의 하기\n",
    "\n",
    "* 인수의 기본값 설정 : 함수 인수에 값을 지정한다."
   ]
  },
  {
   "cell_type": "code",
   "execution_count": 11,
   "metadata": {},
   "outputs": [
    {
     "name": "stdout",
     "output_type": "stream",
     "text": [
      "101\n",
      "111\n"
     ]
    }
   ],
   "source": [
    "# 예제 1\n",
    "def inc(data, interal=1):\n",
    "    data += interal\n",
    "    return data\n",
    "\n",
    "a= 100\n",
    "a= inc(a)\n",
    "print(a)\n",
    "\n",
    "a= inc(a, 10)\n",
    "print(a)\n"
   ]
  },
  {
   "cell_type": "code",
   "execution_count": 9,
   "metadata": {},
   "outputs": [
    {
     "name": "stdout",
     "output_type": "stream",
     "text": [
      "[3]\n",
      "[3, 8, 12]\n"
     ]
    }
   ],
   "source": [
    "# 예제 2\n",
    "def find(source, ch, all=False):\n",
    "    position =[]\n",
    "    for i in range(len(source)):\n",
    "        if source[i] == ch:\n",
    "            position.append(i)\n",
    "            if not all: break\n",
    "    return position\n",
    "\n",
    "s= '배구 우리나라 우생순 우승'\n",
    "k= find(s, '우')\n",
    "print(k)\n",
    "\n",
    "k= find(s, '우', True)\n",
    "print(k)\n"
   ]
  },
  {
   "cell_type": "code",
   "execution_count": 12,
   "metadata": {},
   "outputs": [
    {
     "name": "stdout",
     "output_type": "stream",
     "text": [
      "koera\n",
      "KKK\n",
      "KKK\n",
      "KKK\n",
      "KKK\n",
      "KKK\n"
     ]
    }
   ],
   "source": [
    "# 예제 3 : 키워드로  인수값 정의\n",
    "\n",
    "def printing(source, repetition=1):\n",
    "    for i in range(repetition):\n",
    "        print(source)\n",
    "\n",
    "printing(\"koera\")\n",
    "printing(repetition=5, source=\"KKK\")"
   ]
  },
  {
   "cell_type": "code",
   "execution_count": null,
   "metadata": {},
   "outputs": [],
   "source": [
    "# 예제 4: 함수내 전역 변수 정의\n",
    "\n",
    "def change_state():\n",
    "    global sw                   # 함수가 종료되더라도 변수값을 저장하고 있어, 다음 진입시 재사용됨\n",
    "    if sw:\n",
    "        lbl['state'] = 'active'\n",
    "    else:\n",
    "        lbl['state'] = 'disable'\n",
    "    sw= not sw"
   ]
  },
  {
   "cell_type": "code",
   "execution_count": 17,
   "metadata": {},
   "outputs": [],
   "source": [
    "# 예제 4: 함수내 전역 변수 정의\n",
    "\n",
    "from tkinter import *\n",
    "\n",
    "def change_state():\n",
    "    global sw                   # 함수가 종료되더라도 변수값을 저장하고 있어, 다음 진입시 재사용됨\n",
    "    if sw:\n",
    "        lbl['state'] = 'active'\n",
    "    else:\n",
    "        lbl['state'] = 'disable'\n",
    "    sw= not sw\n",
    "\n",
    "def form_set():\n",
    "    global lbl\n",
    "    win=Tk()\n",
    "    lbl=Label(win,\n",
    "              text=\"안녕 파이썬\",\n",
    "              font=\"HY헤드라인M 20\",\n",
    "              state='active',\n",
    "              activeforeground='red',\n",
    "              disabledforeground='blue')\n",
    "    lbl.pack()\n",
    "    btn=Button(win, text=\"눌러주세요\", command= change_state)\n",
    "    btn.pack()\n",
    "    return win\n",
    "\n",
    "if __name__ == '__main__':\n",
    "    sw=False\n",
    "    mas=form_set()\n",
    "    mas.mainloop()\n",
    "    "
   ]
  },
  {
   "cell_type": "markdown",
   "metadata": {},
   "source": [
    "## 리스트를 함수에 인수로 전달시\n",
    "\n",
    "* 인수로 전달한 리스트 원본 값이 변하는 경우,\n",
    "\n",
    "    ```python\n",
    "    def func(x):                  \n",
    "        x[0] = 500              # 인수로 전달 받은 리스트 변수 x의 [0]번째 요소에 점근\n",
    "\n",
    "    a=[10,20,30]\n",
    "    func(a)\n",
    "    a[0]\n",
    "    >>>\n",
    "    500     # 리스트 원본 값이 변경됨.\n",
    "    ```\n",
    "\n",
    "\n",
    "* 인수로 전달한 리스트 원본 값이 변하지 않는 경우\n",
    "\n",
    "    ```python\n",
    "    def func(x):        \n",
    "        x = [500, 600,700]      # 인수로 전달 받은 리스트 변수명에 새로운 리스트를 할당\n",
    "\n",
    "    a=[10,20,30]\n",
    "    func(a)\n",
    "    a[0]\n",
    "    >>>\n",
    "    500     # 리스트 원본 값이 변경됨.\n",
    "```\n"
   ]
  },
  {
   "cell_type": "code",
   "execution_count": 18,
   "metadata": {},
   "outputs": [
    {
     "data": {
      "text/plain": [
       "500"
      ]
     },
     "execution_count": 18,
     "metadata": {},
     "output_type": "execute_result"
    }
   ],
   "source": [
    "def func(x):                  \n",
    "    x[0] = 500              # 인수로 전달 받은 리스트 변수 x의 [0]번째 요소에 점근\n",
    "\n",
    "a=[10,20,30]\n",
    "func(a)\n",
    "a[0]"
   ]
  },
  {
   "cell_type": "code",
   "execution_count": 19,
   "metadata": {},
   "outputs": [
    {
     "data": {
      "text/plain": [
       "10"
      ]
     },
     "execution_count": 19,
     "metadata": {},
     "output_type": "execute_result"
    }
   ],
   "source": [
    "def func(x):        \n",
    "    x = [500, 600,700]      # 인수로 전달 받은 리스트 변수명에 새로운 리스트를 할당\n",
    "\n",
    "a=[10,20,30]\n",
    "func(a)\n",
    "a[0]"
   ]
  }
 ],
 "metadata": {
  "kernelspec": {
   "display_name": "Python 3.10.5 64-bit (windows store)",
   "language": "python",
   "name": "python3"
  },
  "language_info": {
   "codemirror_mode": {
    "name": "ipython",
    "version": 3
   },
   "file_extension": ".py",
   "mimetype": "text/x-python",
   "name": "python",
   "nbconvert_exporter": "python",
   "pygments_lexer": "ipython3",
   "version": "3.10.5"
  },
  "orig_nbformat": 4,
  "vscode": {
   "interpreter": {
    "hash": "6be026cc2f54c9bec22506d53e3e394c3402c3c44c1202f9383de7e3faf9cb28"
   }
  }
 },
 "nbformat": 4,
 "nbformat_minor": 2
}
