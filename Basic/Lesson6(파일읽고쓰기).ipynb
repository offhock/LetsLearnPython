{
 "cells": [
  {
   "cell_type": "markdown",
   "metadata": {},
   "source": [
    "# file로 부터 읽고 쓰기\n",
    "\n",
    "순차파일, 이진파일, 랜덤파일등을 처리할 수 있다.\n",
    "\n",
    "## file 작업시 일반적인 업무 순서\n",
    "\n",
    "* 1단계 : file 핸들러 개체를 생성한다.\n",
    "  \n",
    "``` python\n",
    "    f1= open('파일명1','r', encoding='UTF-8')\n",
    "    f2= open('파일명2','w')\n",
    "```\n",
    "* 2단계 : file 핸들러를 이용하여 읽거나 쓰기 작업을 한다.\n",
    "``` python\n",
    "    mydata = f1.read()\n",
    "    f2.write(mydata)\n",
    "```\n",
    "\n",
    "* 3단계 : file 핸들러를 닫아준다.\n",
    "``` python\n",
    "    f1.close()\n",
    "    f2.close()   \n",
    "```\n",
    "\n",
    "## file 읽기 작업\n",
    "\n",
    "1. 파일을 읽어 온다.\n",
    "``` python\n",
    "f= open('파일명1','r')\n",
    "data = f.read()\n",
    "```\n",
    "2. split()메서드를 이용하여 리스트 자료형으로 변환한다.\n",
    "``` python\n",
    "data= data.split('\\n')\n",
    "```\n",
    "3. 다음 파일 작업을 위해 파일을 닫는다.\n",
    "``` python\n",
    "f.close()\n",
    "```   \n",
    "4. 한줄씩 읽기/ 한꺼번에 읽기\n",
    "``` python\n",
    "f= open('파일명1','r')\n",
    "k= f.readline()  # 한줄읽기 , 파일포인터가 자동으로 이동\n",
    "k= f.readline()  # 한줄읽기 , 파일포인터가 자동으로 이동\n",
    "k= f.readlines() # 한꺼번에 읽기, 파일포인터 기준으로 나머지를 모두 읽어 온다.\n",
    "f.close()\n",
    "```\n",
    "5. for문 연계\n",
    "``` python\n",
    "f= open('파일명1','r')\n",
    "for line in f:          # 파일 핸들러의 한줄 단위로 집단형으로 인식, 순환한다.\n",
    "    print(line, end='')   \n",
    "```\n",
    "\n",
    "\n",
    "## file 쓰기작업 \n",
    "\n",
    "* 리스트 자료 쓰기 작업 - case 1\n",
    "list형 자료는 파일로 쓰로고 하면 에러가 발생하고, 파일 저장은 string형으로 저장하도록 안내한다.\n",
    "``` python\n",
    "data = ['우리나라','대한민국','사랑하는','우리조국']\n",
    "wf= open(\"파일명\",\"w\")\n",
    "st = \"\\n\".join(data)\n",
    "wr.write(st)\n",
    "wf.close()\n",
    "```\n",
    "\n",
    "* 리스트 자료 쓰기 작업 - case 2\n",
    "``` python\n",
    "wf= open(\"파일명\",\"w\")\n",
    "lst = ['우리나라','대한민국','사랑하는','우리조국']\n",
    "wf.writelines(lst)\n",
    "wf.close()\n",
    "```\n",
    "\n"
   ]
  },
  {
   "cell_type": "code",
   "execution_count": 3,
   "metadata": {},
   "outputs": [
    {
     "name": "stdout",
     "output_type": "stream",
     "text": [
      "작업 완료\n"
     ]
    }
   ],
   "source": [
    "f=open('ex/Lesson6_ex_read_test.txt','r', encoding='UTF-8')\n",
    "basedata=f.read()\n",
    "f.close()\n",
    "\n",
    "data=basedata.split('\\n')\n",
    "for k in range(len(data)):\n",
    "    data[k] = data[k].split(',')\n",
    "\n",
    "\n",
    "f=open('ex/Lesson6_ex_write_test.txt','w', encoding='UTF-8')\n",
    "\n",
    "for k in range(len(data)):              # 1차원 리스트 개수 만큼 반복\n",
    "    sum=0 \n",
    "    for j in range(1, len(data[k])):    # 2차원 리스트의 개수 만큼 반복\n",
    "        sum += int(data[k][j])\n",
    "    data[k].append(str(sum)) \n",
    "    av= int(sum/3)\n",
    "    data[k].append(str(av))\n",
    "    data2=', '.join(data[k]) + '\\n'\n",
    "\n",
    "    f.write(data2)\n",
    "\n",
    "f.close()\n",
    "print ('작업 완료')"
   ]
  },
  {
   "cell_type": "markdown",
   "metadata": {},
   "source": [
    "## pickle 모듈\n",
    "\n",
    "구조화된 객체를 파일에 저장 및 복원해주는 모듈\n",
    "문자열로의 변환 등의 절차가 필요 없다.\n",
    "\n",
    "* pickling : 객체가 저장되기 위해 바이트 스트링으로 변환되는 과정 (object serialization)\n",
    "* unpickling : 바이트 스트링에서 원본객체로 복원되는 과정 (object deserialization)\n",
    "\n",
    "\n",
    "### pickle 모듈 사용하기\n",
    "1. 피클모듈 임포트\n",
    "2. 파일 열기\n",
    "3. 데이터 읽기/쓰기\n",
    "4. 파일 닫기\n",
    "\n",
    "    ```python\n",
    "    import pickle\n",
    "    f= open(파일명, 'w')\n",
    "    data=pickle.load(f)       # pickle 모듈에서 데이터를 읽을때 load 메소드 사용\n",
    "    pickle.dump(data, f)      # pickle 모듈에서 데이터를 저장할때 dump 메소드 사용\n",
    "    f.close()\n",
    "    ```\n"
   ]
  },
  {
   "cell_type": "code",
   "execution_count": 6,
   "metadata": {},
   "outputs": [],
   "source": [
    "import pickle\n",
    "\n",
    "myDic= {'김':'02-1234', '박':'032-333'}\n",
    "myLst= [24,56,98]\n",
    "myStr= \"  아름다운 우리나라 \"\n",
    "\n",
    "f= open(\"ex/pickle_test.bin\",\"wb\")\n",
    "pickle.dump(myDic,f)\n",
    "pickle.dump(myLst,f)\n",
    "pickle.dump(myStr,f)\n",
    "f.close()"
   ]
  },
  {
   "cell_type": "code",
   "execution_count": 7,
   "metadata": {},
   "outputs": [
    {
     "name": "stdout",
     "output_type": "stream",
     "text": [
      "{'김': '02-1234', '박': '032-333'}\n",
      "[24, 56, 98]\n",
      "  아름다운 우리나라 \n"
     ]
    }
   ],
   "source": [
    "import pickle\n",
    "\n",
    "f= open(\"ex/pickle_test.bin\",\"rb\")\n",
    "data1 =pickle.load(f)\n",
    "data2 =pickle.load(f)\n",
    "data3 =pickle.load(f)\n",
    "f.close()\n",
    "\n",
    "print(data1)\n",
    "print(data2)\n",
    "print(data3)"
   ]
  }
 ],
 "metadata": {
  "kernelspec": {
   "display_name": "Python 3.10.5 64-bit (windows store)",
   "language": "python",
   "name": "python3"
  },
  "language_info": {
   "codemirror_mode": {
    "name": "ipython",
    "version": 3
   },
   "file_extension": ".py",
   "mimetype": "text/x-python",
   "name": "python",
   "nbconvert_exporter": "python",
   "pygments_lexer": "ipython3",
   "version": "3.10.5"
  },
  "orig_nbformat": 4,
  "vscode": {
   "interpreter": {
    "hash": "6be026cc2f54c9bec22506d53e3e394c3402c3c44c1202f9383de7e3faf9cb28"
   }
  }
 },
 "nbformat": 4,
 "nbformat_minor": 2
}
