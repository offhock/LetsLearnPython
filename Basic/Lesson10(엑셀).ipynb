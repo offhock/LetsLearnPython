{
 "cells": [
  {
   "cell_type": "markdown",
   "metadata": {},
   "source": [
    "# openpuxl 패키지를 이용한 엑셀 파일 처리\n",
    "\n",
    "* 파이썬에서 엑셀처리를 할 수 있는 파일썬 외부 라이브러리\n",
    "* Excel 2010이상의 xlsx, xlsm, xltx, xltm 파일 처리 가능\n",
    "\n",
    "## openpyxl 외부 모듈\n",
    "* python은 평상시 핵심적인 코어엔진만 유지\n",
    "* 수학, 토목, 건축, 우주등 다양한 전문 분야별 모듈의 별도 개발이 가능 (오픈 소스의 장점)\n",
    "* 전문 기능 필요시 외부 모듈을 import하여 무한히 기능 확장 가능\n",
    "\n",
    "## 파이썬 외부 모듈 관리체계\n",
    "* 파이썬 패키지 인덱스 (PyPI, Python Package Index)에 각종 패키지 저장 및 관리\n",
    "* 사용자는 pip (python install package)을 이용해 설치 가능\n",
    "\n",
    "## 파이썬에서 외부 모듈 사용하기\n",
    "\n",
    "1. 명령프롬프트 pip 실행\n",
    "    ``` bash\n",
    "    pip install openpyxl\n",
    "    ```\n",
    "2. python에서 사용시\n",
    "    ``` python\n",
    "    import openpyxl\n",
    "    ```\n"
   ]
  },
  {
   "cell_type": "markdown",
   "metadata": {},
   "source": [
    "## import 문\n",
    "\n",
    "기 작성되어 있는 특정 기능의 파일을 현재 프로그램에 가져오기하는 방법 3가지\n",
    "\n",
    "```python\n",
    "import tkinter                  # 사용예: k  = tkinter.Button(win)\n",
    "\n",
    "import  tkinter as gg           # 사용예: k  = gg.Button(win)\n",
    "\n",
    "from tkinter import *           # 사용예: k  = Button(win)\n",
    "```"
   ]
  },
  {
   "cell_type": "markdown",
   "metadata": {},
   "source": [
    "## 엑셀 작업 주요 프로세스\n",
    "\n",
    "1. openpyxl 모듈을 import\n",
    "   ```python\n",
    "   import openpyxl                          # 임포트\n",
    "   ```\n",
    "2. 워크북을 열어서 핸들러 갖는다.\n",
    "   ```python\n",
    "   wb= openpyxl.load_workbook('test.xlsx')  # 기존 파일이 존재하면 파일로 읽어옴\n",
    "   wb= openpyxl.Workbook()                  # 신규로 생성할 경우, 주의: 존재시 내용 삭제됨\n",
    "   ``` \n",
    "3. 워크시트의 핸들러를 얻는다.\n",
    "   ```python\n",
    "   sh= wb.active                            # 활성 시트 핸들러 얻음\n",
    "   sh= get_sheet_by_name('sheet1')          # 명시적 이름으로\n",
    "   ```\n",
    "4. 시트의 cell(행,열)을 이용하여 넣고 빼는 작업을 한다.\n",
    "   ```python\n",
    "   sh.cell(r,c).value= '우리나라'           # cell의 프로퍼티를 접근해 입력\n",
    "   sh['A3']= \"대한민국\"                     # key를 이용해 입력\n",
    "   sh(cell(r,c,\"파이썬\"))                   # cell 메서드로 입력\n",
    "   ```"
   ]
  },
  {
   "cell_type": "markdown",
   "metadata": {},
   "source": [
    "### 예문1: 간단한 엑셀 파일 생성 저장"
   ]
  },
  {
   "cell_type": "code",
   "execution_count": 13,
   "metadata": {},
   "outputs": [],
   "source": [
    "# 예문\n",
    "\n",
    "import openpyxl\n",
    "\n",
    "wb= openpyxl.Workbook()     # 엑셀파일 로드\n",
    "ws= wb.active               # 워크시트 핸들러\n",
    "\n",
    "ws['a1']= \"안녕하세요\"              # 셀 접근방법 1\n",
    "ws.cell(2,1).value= '파이썬'        # 셀 접근방법 2\n",
    "ws.cell(3,1, \"나라사랑\")            # 셀 접근방법 3\n",
    "wb.save('ex/Lesson10_sample_1.xlsx')  # 파일 저장"
   ]
  },
  {
   "cell_type": "markdown",
   "metadata": {},
   "source": [
    "### 예문2: 한줄의 항목을 엑셀의 column +1 이동하며 저장하는 방법\n",
    "\n",
    "> enumerate() 내장함수 사용"
   ]
  },
  {
   "cell_type": "code",
   "execution_count": 14,
   "metadata": {},
   "outputs": [],
   "source": [
    "# 예문:  enumerate() 내장함수 사용\n",
    "\n",
    "from openpyxl import *\n",
    "t= \" 홀길동, 010-000-1111, 주소, 회사, 이메일, 기타\"\n",
    "t= t.split(',')\n",
    "\n",
    "wb=Workbook()\n",
    "ws=wb.active\n",
    "\n",
    "for i, ele in enumerate(t):         # 리스트 t 항목을 번호를 할 당해서 \n",
    "    ws.cell(1, i+1, ele)\n",
    "\n",
    "wb.save('ex/Lesson10_sample_2.xlsx')\n"
   ]
  },
  {
   "cell_type": "markdown",
   "metadata": {},
   "source": [
    "### 예문3: 여러 줄의 데이터를 엑셀에 저장하는 방법\n",
    "\n",
    "> 2중 for문을 이용하여 데이터 저장  \n",
    "> * 레코드 행이 증가하는 for문\n",
    "> * 한 레코드에 컬럼이 증가하는 for문"
   ]
  },
  {
   "cell_type": "code",
   "execution_count": 17,
   "metadata": {},
   "outputs": [],
   "source": [
    "from openpyxl import *\n",
    "t= \" 홀길동, 010-000-1111, 주소, 회사, 이메일, 기타\\n 홀길동, 010-000-1111, 주소, 회사, 이메일, 기타\"\n",
    "t= t.split('\\n')\n",
    "\n",
    "for i in range(len(t)):\n",
    "    t[i] = t[i].split(',')\n",
    "\n",
    "wb= Workbook()\n",
    "sh= wb.active\n",
    "\n",
    "for r in range(len(t)):\n",
    "    for c in range(len(t[r])):\n",
    "        sh.cell(r+1,c+1).value= t[r][c]\n",
    "\n",
    "wb.save('ex/Lesson10_sample_3.xlsx')"
   ]
  },
  {
   "cell_type": "markdown",
   "metadata": {},
   "source": [
    "### 예문4: 행과 열의 사이즈 지정\n",
    "* 행의 높이: \n",
    "  * `sheet.row_dimensions[인덱스].hight=높이`\n",
    "* 열의 높이: \n",
    "  * `sheet.column_dimensions[인덱스].width=너비`\n",
    "\n",
    "예시)  \n",
    "3번째 행의 높이를 변경하고자 할 때\n",
    "  ```\n",
    "      ws.row_dimensions[3].height= 8\n",
    "  ```\n",
    "C번재 열의 너비를 변경하고자 할때  \n",
    "  ```\n",
    "      ws.column_dimensions['C'].width= 20\n",
    "  ```\n",
    "여러 열의 너비를 변경하고자 할때 \n",
    "  ```\n",
    "      ws.column_dimensions['A'].width= 20\n",
    "      ws.column_dimensions['B'].width= 20\n",
    "      ws.column_dimensions['C'].width= 20\n",
    "  ```"
   ]
  },
  {
   "cell_type": "code",
   "execution_count": 18,
   "metadata": {},
   "outputs": [
    {
     "name": "stdout",
     "output_type": "stream",
     "text": [
      "('A', 'B', 'C', 'D', 'E', 'F', 'G', 'H', 'I', 'G', 'J', 'K', 'L', 'M', 'N', 'O', 'P') "
     ]
    }
   ],
   "source": [
    "# 튜플의 기능 확인 --> 열의 너비를 변경할대는 알파벳 필요하므로 \n",
    "\n",
    "t='ABCDEFGHIGJKLMNOP'\n",
    "t=tuple(t)\n",
    "print(t, end=' ')"
   ]
  },
  {
   "cell_type": "code",
   "execution_count": 19,
   "metadata": {},
   "outputs": [],
   "source": [
    "# 행과 열 사이즈 지정\n",
    "\n",
    "t='ABCDEFGHIG'\n",
    "t=tuple(t)\n",
    "\n",
    "s= (30,8,12,12,10,10,10,12,12,12,12)\n",
    "\n",
    "from openpyxl import *\n",
    "wb= Workbook()\n",
    "ws= wb.active\n",
    "\n",
    "for i in range(len(t)):\n",
    "    ws.column_dimensions[t[i]].width= s[i]\n",
    "    \n",
    "wb.save('ex/Lesson10_sample_4.xlsx')"
   ]
  },
  {
   "cell_type": "markdown",
   "metadata": {},
   "source": [
    "### 예문5: 정렬방식/폰트/선긋기 \n",
    "styles 객체의 Alignment, Font, Border, Side 클래스 이용"
   ]
  },
  {
   "cell_type": "code",
   "execution_count": 20,
   "metadata": {},
   "outputs": [],
   "source": [
    "\n",
    "from openpyxl import *\n",
    "from openpyxl.styles import Alignment, Font, Border, Side\n",
    "wb= Workbook()\n",
    "ws= wb.active\n",
    "ws['b3']= \"Hello\"\n",
    "ws['b3'].font= Font(name=\"HY헤드라인\",\n",
    "                    bold=True,\n",
    "                    size=20,\n",
    "                    italic=True,\n",
    "                    underline='single')\n",
    "ws['b3'].alignment= Alignment(horizontal='center', vertical='center') # top, bottom, left, right\n",
    "\n",
    "th= Side(border_style='thin')\n",
    "db= Side(border_style='double')\n",
    "ws['b3'].border= Border(top=th, bottom=th, left=db, right=db)\n",
    "\n",
    "wb.save('ex/Lesson10_sample_5.xlsx')"
   ]
  },
  {
   "cell_type": "markdown",
   "metadata": {},
   "source": [
    "### 예문5: 모든 행을 대상으로 작업\n",
    "\n",
    "* sheet객체 **rows** 이용 (gnerator 객체로서 행들로 구성되어 있음)   `sh.rows`\n",
    "``` python\n",
    "    for rw, data in enumerate(sh.rows):\n",
    "        print( rw, data[0].value, data[1].value])   # 이름과 전화번호만 출력\n",
    "```\n",
    "\n",
    "* sheet객체 **max_row** 이용 (행의 최대 인덱스 값)                  `sh.max_row`\n",
    "``` python\n",
    "    for i in range(1, sh.max_row + 1)\n",
    "        point= \"A\"+ str(i)                          # A1, A2,.... 이름 컬럼 (B로 하면 전화번호..)\n",
    "        print(sh[point].vlaue)\n",
    "```\n",
    "  "
   ]
  },
  {
   "cell_type": "markdown",
   "metadata": {},
   "source": [
    "### 예문6: 모든 열을 대상으로 하는 작업\n",
    "\n",
    "* sheet 객체 columns 이용 (gnerator 객체로서 행들로 구성되어 있음) \n",
    "``` python\n",
    "    for cols in sh.columns:\n",
    "        for col in cols:\n",
    "            print(col.value)\n",
    "        print(\"------------------------\")\n",
    "```\n"
   ]
  },
  {
   "cell_type": "markdown",
   "metadata": {},
   "source": [
    "### 예문7: 특정 셀 집합에 대한 선택적 작업 (슬라이싱)\n",
    "마우스로 셀 선택하는 것과 동일함.\n",
    "\n",
    "``` python\n",
    "    m_cell= sh['c1':'e7']\n",
    "    for onerow in m_cell:\n",
    "        for onecell in onerow:\n",
    "            print(onecell.value)\n",
    "```"
   ]
  },
  {
   "cell_type": "markdown",
   "metadata": {},
   "source": [
    "### 예문8: column과 row의 선택적 작업\n",
    "\n",
    "```python\n",
    "colA= sh['A']\n",
    "row5= sh[5]\n",
    "\n",
    "for ele in colA:\n",
    "    print(ele.value)\n",
    "\n",
    "for ele in row5:\n",
    "    print(ele.value)\n",
    "\n",
    "```"
   ]
  },
  {
   "cell_type": "code",
   "execution_count": 23,
   "metadata": {},
   "outputs": [],
   "source": [
    "# c컬럼 전체의 글꼴을 변경하고 가운데 정렬 및 선 긋기 하라.\n",
    "\n",
    "from openpyxl import *\n",
    "from openpyxl.styles import Alignment, Font, Border, Side\n",
    "wb= Workbook()\n",
    "ws= wb.active\n",
    "\n",
    "for r in range(1,10):\n",
    "    for c in range(1,10):\n",
    "        ws.cell(r,c, r*c)\n",
    "        \n",
    "c=ws['c']\n",
    "for col in c:\n",
    "    col.font= Font(name=\"HY헤드라인\", bold=True)\n",
    "    col.alignment= Alignment(horizontal='center', vertical='center') # top, bottom, left, right\n",
    "    th= Side(border_style='thin')\n",
    "    col.border= Border(top=th, bottom=th, left=th, right=th)\n",
    "\n",
    "wb.save('ex/Lesson10_sample_8.xlsx')\n"
   ]
  },
  {
   "cell_type": "markdown",
   "metadata": {},
   "source": [
    "### 예문9: 행단위, 열단위 슬라이싱\n",
    "\n",
    "```python\n",
    "    col_range= sh['b:c']\n",
    "\n",
    "    for data in col_range:          # 열 단위 \n",
    "        for ele in data:            # 행 단위 \n",
    "            print(ele.value)        # 행우선 열차선 항목 접근\n",
    "\n",
    "    row_range= sh['6:7']\n",
    "\n",
    "    for data in row_range:          # 행 단위\n",
    "        for ele in data:            # 열 단위\n",
    "            print(ele.value)        # 열우선 행차선 항목 접근    \n",
    "```"
   ]
  },
  {
   "cell_type": "markdown",
   "metadata": {},
   "source": [
    "### 예문10: 값만 활용하는 작업  \n",
    "\n",
    "sheet의 **values** 속성 사용하면 모든 값에 대한 값을 반환\n",
    "\n",
    "```python\n",
    "    for r in sh.vlaues:\n",
    "        for c in r:\n",
    "            print(c)\n",
    "\n",
    "```\n"
   ]
  },
  {
   "cell_type": "markdown",
   "metadata": {},
   "source": [
    "### 예문11:  행/열 추가 삭제, 병합\n",
    "\n",
    "```\n",
    "sh.insert_rows(5)       # (시작, 개수)\n",
    "sh.insert_cols(2,3)\n",
    "sh.delete_rows(2,3)\n",
    "sh.delete_cols(2,2)\n",
    "\n",
    "sh.merge_cells('A1:b2')\n",
    "```"
   ]
  },
  {
   "cell_type": "markdown",
   "metadata": {},
   "source": [
    "### 예문12: 새로운 시트 추가\n",
    "\n",
    "```\n",
    "ws1= wb.create_sheet(\"newsheet\")            # 마지막 시트 뒤에 추가\n",
    "ws2= wb.create_sheet(\"newsheet2\",0)         # 맨 앞에 \n",
    "```\n"
   ]
  }
 ],
 "metadata": {
  "kernelspec": {
   "display_name": "Python 3.10.5 64-bit (windows store)",
   "language": "python",
   "name": "python3"
  },
  "language_info": {
   "codemirror_mode": {
    "name": "ipython",
    "version": 3
   },
   "file_extension": ".py",
   "mimetype": "text/x-python",
   "name": "python",
   "nbconvert_exporter": "python",
   "pygments_lexer": "ipython3",
   "version": "3.10.5"
  },
  "orig_nbformat": 4,
  "vscode": {
   "interpreter": {
    "hash": "6be026cc2f54c9bec22506d53e3e394c3402c3c44c1202f9383de7e3faf9cb28"
   }
  }
 },
 "nbformat": 4,
 "nbformat_minor": 2
}
