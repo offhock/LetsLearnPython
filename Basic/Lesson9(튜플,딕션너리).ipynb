{
 "cells": [
  {
   "cell_type": "markdown",
   "metadata": {},
   "source": [
    "# tuple(튜플) 과 Dictionary (사전) 이란?\n",
    "\n",
    "## tuple(튜플)이란?\n",
    "* 하나의 변수명으로 여러 객체를 기억할 수 있는 집단형 자료\n",
    "* 요소들을 순서대로 저장하는 순서형 자료 (**인덱스 사용가능**)\n",
    "* 요소의 크기, 요소의 유형, 테이터의 크기등에 구애됨이 없는 동적 구조를 가짐\n",
    "* 요소 개객의 데이터를 변경할 수 없다.\n",
    "\n",
    "> tuple은 list와 대부분 동일하고, 데이터를 변경할 수 없다는 것이 특징이다.\n",
    "\n",
    "## tuple 사용법\n",
    "\n",
    "```\n",
    "변수 = (값)\n",
    "```\n"
   ]
  },
  {
   "cell_type": "code",
   "execution_count": 50,
   "metadata": {},
   "outputs": [
    {
     "data": {
      "text/plain": [
       "('abc', 'def', 'ghi', 'jkl')"
      ]
     },
     "execution_count": 50,
     "metadata": {},
     "output_type": "execute_result"
    }
   ],
   "source": [
    "my_tup = ('abc','def','ghi','jkl')\n",
    "my_tup"
   ]
  },
  {
   "cell_type": "code",
   "execution_count": 51,
   "metadata": {},
   "outputs": [
    {
     "data": {
      "text/plain": [
       "('ghi',)"
      ]
     },
     "execution_count": 51,
     "metadata": {},
     "output_type": "execute_result"
    }
   ],
   "source": [
    "my_tup = ('abc','def','ghi','jkl')\n",
    "my_tup[2:3]"
   ]
  },
  {
   "cell_type": "code",
   "execution_count": 55,
   "metadata": {},
   "outputs": [
    {
     "ename": "TypeError",
     "evalue": "'tuple' object does not support item assignment",
     "output_type": "error",
     "traceback": [
      "\u001b[1;31m---------------------------------------------------------------------------\u001b[0m",
      "\u001b[1;31mTypeError\u001b[0m                                 Traceback (most recent call last)",
      "\u001b[1;32mc:\\Users\\offho\\Code\\LetsLearnPython\\Basic\\Lesson9(튜플,딕션너리).ipynb 셀 4\u001b[0m in \u001b[0;36m<cell line: 2>\u001b[1;34m()\u001b[0m\n\u001b[0;32m      <a href='vscode-notebook-cell:/c%3A/Users/offho/Code/LetsLearnPython/Basic/Lesson9%28%ED%8A%9C%ED%94%8C%2C%EB%94%95%EC%85%98%EB%84%88%EB%A6%AC%29.ipynb#ch0000004?line=0'>1</a>\u001b[0m \u001b[39m# 특정요소값 변경 불가 (스트링과 동일)\u001b[39;00m\n\u001b[1;32m----> <a href='vscode-notebook-cell:/c%3A/Users/offho/Code/LetsLearnPython/Basic/Lesson9%28%ED%8A%9C%ED%94%8C%2C%EB%94%95%EC%85%98%EB%84%88%EB%A6%AC%29.ipynb#ch0000004?line=1'>2</a>\u001b[0m my_tup[\u001b[39m0\u001b[39m] \u001b[39m=\u001b[39m \u001b[39m'\u001b[39m\u001b[39maaa\u001b[39m\u001b[39m'\u001b[39m\n",
      "\u001b[1;31mTypeError\u001b[0m: 'tuple' object does not support item assignment"
     ]
    }
   ],
   "source": [
    "# 특정요소값 변경 불가 (스트링과 동일)\n",
    "my_tup[0] = 'aaa'"
   ]
  },
  {
   "cell_type": "code",
   "execution_count": 56,
   "metadata": {},
   "outputs": [
    {
     "name": "stdout",
     "output_type": "stream",
     "text": [
      "a의 자료형은 <class 'tuple'>이고 값은 (1, 2, 3) 이다.\n",
      "x,y,z의 자료형은 (<class 'int'>, <class 'int'>, <class 'int'>)이고 값은 (1, 2, 3) 이다.\n"
     ]
    }
   ],
   "source": [
    "# 자료의 패킹과 언패킹\n",
    "a= 1,2,3        # 패킹   a= (1,2,3)과 동일\n",
    "x, y, z = a     # 언패킹  \n",
    "\n",
    "print (f'a의 자료형은 {type(a)}이고 값은 {a} 이다.')\n",
    "print (f'x,y,z의 자료형은 {type(x),type(y),type(z)}이고 값은 {x,y,z} 이다.')\n"
   ]
  },
  {
   "cell_type": "markdown",
   "metadata": {},
   "source": [
    "## 리스트와 튜플간 상호 변환\n",
    "\n",
    "내장함수 -  `list()`와 `tuple()` 사용"
   ]
  },
  {
   "cell_type": "code",
   "execution_count": 57,
   "metadata": {},
   "outputs": [
    {
     "data": {
      "text/plain": [
       "[100, 200, 300]"
      ]
     },
     "execution_count": 57,
     "metadata": {},
     "output_type": "execute_result"
    }
   ],
   "source": [
    "a= [100, 200, 300]\n",
    "a"
   ]
  },
  {
   "cell_type": "code",
   "execution_count": 58,
   "metadata": {},
   "outputs": [
    {
     "name": "stdout",
     "output_type": "stream",
     "text": [
      "<class 'tuple'> (100, 200, 300)\n"
     ]
    }
   ],
   "source": [
    "b= tuple(a)\n",
    "print(type(b),b)"
   ]
  },
  {
   "cell_type": "code",
   "execution_count": 59,
   "metadata": {},
   "outputs": [
    {
     "name": "stdout",
     "output_type": "stream",
     "text": [
      "<class 'list'> [100, 200, 300]\n"
     ]
    }
   ],
   "source": [
    "c= list(b)\n",
    "print(type(c),c)"
   ]
  },
  {
   "cell_type": "markdown",
   "metadata": {},
   "source": [
    "## Dictionary 딕션너리 란?\n",
    "\n",
    "* 하나의 변수명으로 여러 객체를 기억할 수 잇는 집단형 자료\n",
    "* 고유의  **key**로 접근하는 **매핑형 자료**, **비순서형 자료** (**인덱스 사용 불가**)\n",
    "* 요소의 크기, 요소의 유형, 데이터의 크기등에 구애됨이 없는 동적 구조\n",
    "* 요소 개개의 데이터를 변경할 수 있다.\n",
    "\n",
    "> 디션너리는 리스트와는 비순서형 자료와 인덱스를 사용할 수 없고, **key**로만 접근 가능하다는 것이 특징이다.\n",
    "\n",
    "### Dictionary 사용법\n",
    "\n",
    "```\n",
    "변수 = {  키 : 값 }\n",
    "```\n",
    "\n",
    "\n",
    "* 키 값은 숫자, 문자 모두 가능  \n",
    "* 단, 변경 불가능한 자료형일 것  (그러므로 tuple은 키로 사용가능하나, list는 키로 사용 불가함)"
   ]
  },
  {
   "cell_type": "code",
   "execution_count": 60,
   "metadata": {},
   "outputs": [
    {
     "data": {
      "text/plain": [
       "{'한국': 60, '일본': 40, '중국': 50}"
      ]
     },
     "execution_count": 60,
     "metadata": {},
     "output_type": "execute_result"
    }
   ],
   "source": [
    "my_dict = {'한국':60, '일본':40, '중국': 50}\n",
    "my_dict"
   ]
  },
  {
   "cell_type": "code",
   "execution_count": 61,
   "metadata": {},
   "outputs": [
    {
     "data": {
      "text/plain": [
       "60"
      ]
     },
     "execution_count": 61,
     "metadata": {},
     "output_type": "execute_result"
    }
   ],
   "source": [
    "my_dict = {'한국':60, '일본':40, '중국': 50}\n",
    "my_dict['한국']"
   ]
  },
  {
   "cell_type": "markdown",
   "metadata": {},
   "source": [
    "###  items(), values(), keys() 메서드 사용법\n",
    "\n",
    "\n",
    "\n",
    "``` python\n",
    "my_dict = {'한국':60, '일본':40, '중국': 50}\n",
    "\n",
    "for k in my_dict:                   # 딕션너리의 in 연산자는 key 값을 반환\n",
    "    print(k, my_dict[k])\n",
    "\n",
    "for k, v in my_dict.items():        # 딕션너리의 items()메서드는 key와 value를 반환\n",
    "    print(k, v)\n",
    "\n",
    "for v in my_dict.values():          # 딕션너리 values()메서드는 value를 반환\n",
    "    print(v, end=' ')\n",
    "\n",
    "for k in my_dict.keys():            # 딕션너리 keys()메서드는 key 값을 반환\n",
    "    print(k, my_dict[k])\n",
    "\n",
    "```"
   ]
  },
  {
   "cell_type": "code",
   "execution_count": 62,
   "metadata": {},
   "outputs": [
    {
     "name": "stdout",
     "output_type": "stream",
     "text": [
      "한국 60\n",
      "일본 40\n",
      "중국 50\n",
      "한국 60\n",
      "일본 40\n",
      "중국 50\n",
      "60 40 50 한국 60\n",
      "일본 40\n",
      "중국 50\n"
     ]
    }
   ],
   "source": [
    "my_dict = {'한국':60, '일본':40, '중국': 50}\n",
    "\n",
    "for k in my_dict:                   # 딕션너리의 in 연산자는 key 값을 반환\n",
    "    print(k, my_dict[k])\n",
    "\n",
    "for k, v in my_dict.items():        # 딕션너리의 items()메서드는 key와 value를 반환\n",
    "    print(k, v)\n",
    "\n",
    "for v in my_dict.values():          # 딕션너리 values()메서드는 value를 반환\n",
    "    print(v, end=' ')\n",
    "\n",
    "for k in my_dict.keys():            # 딕션너리 keys()메서드는 key 값을 반환\n",
    "    print(k, my_dict[k])\n"
   ]
  },
  {
   "cell_type": "markdown",
   "metadata": {},
   "source": [
    "## in 연산자\n",
    "\n",
    "딕션너리의 '**in 연산자**'는  key값을 반환함.\n",
    "\n",
    "```\n",
    "if not '베트남' in my_dict:\n",
    "    print(\"베트남 없음\")\n",
    "```"
   ]
  },
  {
   "cell_type": "code",
   "execution_count": 63,
   "metadata": {},
   "outputs": [
    {
     "name": "stdout",
     "output_type": "stream",
     "text": [
      "베트남 없음\n"
     ]
    }
   ],
   "source": [
    "if not '베트남' in my_dict:\n",
    "    print(\"베트남 없음\")"
   ]
  },
  {
   "cell_type": "markdown",
   "metadata": {},
   "source": [
    "## 자료 추가\n",
    "\n",
    "새로운 키에 값을 대입하면 됨\n",
    "\n",
    "```\n",
    "my_dict = {'한국':60, '일본':40, '중국': 50}\n",
    "my_dict['베트남'] = 20                   # 기존의 딕션너리에 키와 값을 추가 함.\n",
    "```"
   ]
  },
  {
   "cell_type": "code",
   "execution_count": 64,
   "metadata": {},
   "outputs": [
    {
     "data": {
      "text/plain": [
       "{'한국': 60, '일본': 40, '중국': 50, '베트남': 20}"
      ]
     },
     "execution_count": 64,
     "metadata": {},
     "output_type": "execute_result"
    }
   ],
   "source": [
    "my_dict = {'한국':60, '일본':40, '중국': 50}\n",
    "my_dict['베트남'] = 20                   # 기존의 딕션너리에 키와 값을 추가 함.\n",
    "my_dict"
   ]
  },
  {
   "cell_type": "markdown",
   "metadata": {},
   "source": [
    "## pop(), copy(), clear(), update() 매서드 \n",
    "\n",
    "* pop() 메서드\n",
    "  * ret = dict.pop(key)         : key 에 맞는 item을 꺼내고(삭제하고) ret에 값을 반환\n",
    "* copy() 메서드\n",
    "  * other_dict = dict.copy()    : 모든 item을 복사한 딕션너리를 other_dict로 반환\n",
    "* clear() 메서드\n",
    "  * dict.clear()                : 모든 item을 삭제\n",
    "* update() 메서드       \n",
    "  * dict.update(other_dict)     : other_dict의 item들을 dict으로 업데이트 함"
   ]
  },
  {
   "cell_type": "code",
   "execution_count": 65,
   "metadata": {},
   "outputs": [
    {
     "name": "stdout",
     "output_type": "stream",
     "text": [
      "{'한국': 60, '일본': 40, '중국': 50, '베트남': 20}\n",
      "40\n",
      "{'한국': 60, '중국': 50, '베트남': 20}\n"
     ]
    }
   ],
   "source": [
    "# 딕셔너리 생성\n",
    "print(my_dict)\n",
    "\n",
    "# pop() 메서드 사용 \n",
    "j= my_dict.pop('일본')\n",
    "print(j)\n",
    "print(my_dict)\n"
   ]
  },
  {
   "cell_type": "code",
   "execution_count": 66,
   "metadata": {},
   "outputs": [
    {
     "data": {
      "text/plain": [
       "{'한국': 60, '중국': 50, '베트남': 20}"
      ]
     },
     "execution_count": 66,
     "metadata": {},
     "output_type": "execute_result"
    }
   ],
   "source": [
    "b= my_dict.copy()  # b로 딕션너리 복제함\n",
    "b"
   ]
  },
  {
   "cell_type": "code",
   "execution_count": 67,
   "metadata": {},
   "outputs": [
    {
     "data": {
      "text/plain": [
       "{'한국': 60, '중국': 50, '베트남': 20, '대만': 90}"
      ]
     },
     "execution_count": 67,
     "metadata": {},
     "output_type": "execute_result"
    }
   ],
   "source": [
    "b['대만'] = 90      # 복제한 b에 item 추가\n",
    "b               \n"
   ]
  },
  {
   "cell_type": "code",
   "execution_count": 68,
   "metadata": {},
   "outputs": [
    {
     "data": {
      "text/plain": [
       "{'한국': 60, '중국': 50, '베트남': 20}"
      ]
     },
     "execution_count": 68,
     "metadata": {},
     "output_type": "execute_result"
    }
   ],
   "source": [
    "my_dict             # 원본 my_dict를 확인하면, 원본은 변경없음"
   ]
  },
  {
   "cell_type": "code",
   "execution_count": 69,
   "metadata": {},
   "outputs": [
    {
     "data": {
      "text/plain": [
       "{}"
      ]
     },
     "execution_count": 69,
     "metadata": {},
     "output_type": "execute_result"
    }
   ],
   "source": [
    "my_dict.clear()     # my_dict 초기화\n",
    "my_dict"
   ]
  },
  {
   "cell_type": "code",
   "execution_count": 70,
   "metadata": {},
   "outputs": [
    {
     "data": {
      "text/plain": [
       "{'한국': 60, '중국': 50, '베트남': 60, '대만': 90, '미국': 70}"
      ]
     },
     "execution_count": 70,
     "metadata": {},
     "output_type": "execute_result"
    }
   ],
   "source": [
    "my_dict['미국']=70      # 신규 아이템 \n",
    "my_dict['베트남']=60    # 기존 키와 동일한 아이템\n",
    "b.update(my_dict)       # b에 my_dict의 item을 업데이트 함.\n",
    "b"
   ]
  },
  {
   "cell_type": "markdown",
   "metadata": {},
   "source": [
    "## get(), setdefault() 메서드\n",
    "\n",
    "* get() 메서드\n",
    "  * ret = dict.get( key, '없을 경우 반환값') :  key가 있으면 key의 value를 반환하고,  key가 없으면 `없을경우 반환값`을 반환한다.\n",
    "* setdefault() 메서드\n",
    "  * ret = dict.setdefault( key, default_value ) : key값이 있으면 key의 value를 반환하고, key가 없으면, key:default_value으로 item을 저장하고, default_value를 반환"
   ]
  },
  {
   "cell_type": "code",
   "execution_count": 72,
   "metadata": {},
   "outputs": [
    {
     "data": {
      "text/plain": [
       "'없음'"
      ]
     },
     "execution_count": 72,
     "metadata": {},
     "output_type": "execute_result"
    }
   ],
   "source": [
    "b = {'한국': 60, '중국': 50, '베트남': 60, '대만': 90, '미국': 70}\n",
    "a=b.get('캐나다',\"없음\")\n",
    "a"
   ]
  },
  {
   "cell_type": "code",
   "execution_count": 73,
   "metadata": {},
   "outputs": [
    {
     "data": {
      "text/plain": [
       "60"
      ]
     },
     "execution_count": 73,
     "metadata": {},
     "output_type": "execute_result"
    }
   ],
   "source": [
    "a=b.get('베트남',\"없음\")\n",
    "a"
   ]
  },
  {
   "cell_type": "code",
   "execution_count": 74,
   "metadata": {},
   "outputs": [
    {
     "data": {
      "text/plain": [
       "60"
      ]
     },
     "execution_count": 74,
     "metadata": {},
     "output_type": "execute_result"
    }
   ],
   "source": [
    "a=b.setdefault('한국',99)\n",
    "a"
   ]
  },
  {
   "cell_type": "code",
   "execution_count": 75,
   "metadata": {},
   "outputs": [
    {
     "data": {
      "text/plain": [
       "66"
      ]
     },
     "execution_count": 75,
     "metadata": {},
     "output_type": "execute_result"
    }
   ],
   "source": [
    "a=b.setdefault('우간다',66)\n",
    "a"
   ]
  },
  {
   "cell_type": "code",
   "execution_count": 76,
   "metadata": {},
   "outputs": [
    {
     "data": {
      "text/plain": [
       "{'한국': 60, '중국': 50, '베트남': 60, '대만': 90, '미국': 70, '우간다': 66}"
      ]
     },
     "execution_count": 76,
     "metadata": {},
     "output_type": "execute_result"
    }
   ],
   "source": [
    "b"
   ]
  },
  {
   "cell_type": "markdown",
   "metadata": {},
   "source": [
    "## 응용문제1: 설문조사 키워드 분석\n",
    "\n",
    "관심 키워드 설문조사를 한 결과 응답자로 부터 다음과 같은 키워드가 관심 키워드로 조사되었다, 각 키워드의 응답 숫자를 파악할 수 있도록 프로그램을 작성학라.\n",
    "\n",
    "힌트\n",
    "1. 콤마를 기준으로 split\n",
    "2. 빈사전을 정의한다.\n",
    "3. 모든 키워드를 순환하면서 for\n",
    "4. 해당 키워드가 사전에 존재하면 값을 1 증가 존재하지 않으면 1로 세팅\n"
   ]
  },
  {
   "cell_type": "code",
   "execution_count": 81,
   "metadata": {},
   "outputs": [
    {
     "name": "stdout",
     "output_type": "stream",
     "text": [
      "\n",
      "--카운팅결과--\n",
      " A                      6      \n",
      " B                      2      \n",
      " C                      2      \n",
      " D                      2      \n",
      " E                      1      \n",
      " S                      2      \n",
      " F                      3      \n",
      " AS                     1      \n",
      " AD                     2      \n",
      " VC                     1      \n",
      " V                      2      \n",
      " CA                     1      \n",
      " ACD                    1      \n",
      " AVA                    1      \n",
      " VA                     2      \n",
      " DB                     1      \n",
      " ASB                    1      \n",
      " SD                     1      \n",
      " CDCCA                  1      \n",
      " XC                     1      \n",
      " CB                     1      \n",
      " ACAABB                 1      \n",
      " AA                     1      \n"
     ]
    }
   ],
   "source": [
    "k = \"A,B,C,D,E,A,S,D,F,A,AS,F,AD,F,VC,V,A,AD,CA,A,ACD,AVA,VA,DB,ASB,A,SD,CDC,,CA,XC,VA,CB,ACAABB,AA,B,V,C,S\"\n",
    "# 입력된 k 문자열의 공백을 제거하고, 컴마로 스플릿한 리스트를 생성\n",
    "k= k.replace(\" \",\"\").replace('\\n','').replace(',,','').split(',')\n",
    "\n",
    "# 빈사전 생성\n",
    "count={}\n",
    "\n",
    "for kwd in k:\n",
    "    if kwd in count:\n",
    "        count[kwd] += 1\n",
    "    else:\n",
    "        count[kwd] = 1\n",
    "\n",
    "print (\"\\n--카운팅결과--\")\n",
    "for k, v in count.items():\n",
    "    print(' {0:20s}   {1:5s}  '.format(k,str(v)))\n",
    "    \n"
   ]
  },
  {
   "cell_type": "code",
   "execution_count": 82,
   "metadata": {},
   "outputs": [
    {
     "name": "stdout",
     "output_type": "stream",
     "text": [
      "\n",
      "--카운팅결과--\n",
      " A                      6      \n",
      " B                      2      \n",
      " C                      2      \n",
      " D                      2      \n",
      " E                      1      \n",
      " S                      2      \n",
      " F                      3      \n",
      " AS                     1      \n",
      " AD                     2      \n",
      " VC                     1      \n",
      " V                      2      \n",
      " CA                     1      \n",
      " ACD                    1      \n",
      " AVA                    1      \n",
      " VA                     2      \n",
      " DB                     1      \n",
      " ASB                    1      \n",
      " SD                     1      \n",
      " CDCCA                  1      \n",
      " XC                     1      \n",
      " CB                     1      \n",
      " ACAABB                 1      \n",
      " AA                     1      \n"
     ]
    }
   ],
   "source": [
    "k = \"A,B,C,D,E,A,S,D,F,A,AS,F,AD,F,VC,V,A,AD,CA,A,ACD,AVA,VA,DB,ASB,A,SD,CDC,,CA,XC,VA,CB,ACAABB,AA,B,V,C,S\"\n",
    "# 입력된 k 문자열의 공백을 제거하고, 컴마로 스플릿한 리스트를 생성\n",
    "k= k.replace(\" \",\"\").replace('\\n','').replace(',,','').split(',')\n",
    "\n",
    "# 빈사전 생성\n",
    "count={}\n",
    "\n",
    "for kwd in k:\n",
    "    count.setdefault(kwd,0)\n",
    "    count[kwd] += 1\n",
    "\n",
    "print (\"\\n--카운팅결과--\")\n",
    "for k, v in count.items():\n",
    "    print(' {0:20s}   {1:5s}  '.format(k,str(v)))"
   ]
  },
  {
   "cell_type": "markdown",
   "metadata": {},
   "source": [
    "## 응용문제2: 전화번호부 구현하기\n",
    "\n",
    "메모장에 다음과 같음 형식의 전화번호 데이터가 약 1,000명 저장되어 있다.\n",
    "\n",
    "이름1, 010-1111-1111, 주소1  \n",
    "이름2, 010-2222-2222, 주소2  \n",
    "이름3, 010-3333-3333, 주소3  \n",
    "\n",
    "1. 이것을 읽어서 이름을 key로 하는 사전을 구성하라\n",
    "2. 사용자로 부터 이름을 입력 받아 전화번호 등을 정보를 출력하는 프로그램을 작성하라\n",
    "\n",
    "힌트\n",
    "1. file로 부터 읽고 닫는다.\n",
    "2. 엔터키를 기준으로 split 리스트 \n",
    "3. 콤마를 기준으로 split 리스트\n",
    "4. 리스트를 순환하면서 이름을 키로 데이터 사전을 만든다.\n"
   ]
  },
  {
   "cell_type": "code",
   "execution_count": 92,
   "metadata": {},
   "outputs": [
    {
     "name": "stdout",
     "output_type": "stream",
     "text": [
      "\n",
      "\n",
      "           전화번호 목록\n",
      "--------------------------------------------\n",
      "이름    전화전호     주소\n",
      "--------------------------------------------\n",
      "name1 -----> name1   010-1111-1111    address1\n",
      "name2 -----> name2   010-2222-2222    address2\n",
      "name3 -----> name3   010-3333-3333    address3\n"
     ]
    }
   ],
   "source": [
    "def read_from_file():\n",
    "    global telDic\n",
    "    f= open('Lesson9_tel_dic.txt','r')\n",
    "    basedata=f.read()\n",
    "    f.close()\n",
    "    \n",
    "    data=basedata.split('\\n')       # 입력 받은 데이터를 엔터키 기준으로 분리된 item을 갖는 data 리스트를 생성\n",
    "    telDic={}\n",
    "    \n",
    "    for j in range(len(data)):      # data 리스트 개수 만큼 반복\n",
    "        person= data[j].split(',')  # data 리스트의 각 item을 ','로 split된 항목을 갖는 person 리스트를 생성.\n",
    "        telDic[person[0]]= person   # person[0]을 '키'로 하고 person 리스트를 '값'으로 입력\n",
    "        \n",
    "def test_printing():\n",
    "    print(\"\\n\\n           전화번호 목록\")\n",
    "    print(\"--------------------------------------------\")\n",
    "    print(\"이름    전화전호     주소\")\n",
    "    print(\"--------------------------------------------\")            \n",
    "    \n",
    "    for k, v in telDic.items():\n",
    "        print('{} -----> {:5s}  {:15s}  {:5}'.format(k, v[0], v[1],v[2]))\n",
    "        \n",
    "\n",
    "def main():\n",
    "    read_from_file()\n",
    "    test_printing()\n",
    "    \n",
    "    \n",
    "    while False:\n",
    "        sNAme = input (\"\\n이름을 입력\")\n",
    "        if sNAme == \"끝\":\n",
    "            print(\"종료합니다.\")\n",
    "            break\n",
    "        \n",
    "        if sNAme in telDic:\n",
    "            print (sNAme, \"--->\", telDic[sNAme])\n",
    "        else:\n",
    "            print (\"등록된 번호가 없습니다.\")\n",
    "            \n",
    "\n",
    "main()\n"
   ]
  },
  {
   "cell_type": "markdown",
   "metadata": {},
   "source": [
    "## 응용문제3: 여러 Dictionary(사전)간의 연산\n",
    "\n",
    "사전 간의 연산을 위해서는 키 및 값이 다른 경우가 있을 수 있으므로, 이를 고려한다.\n",
    "\n",
    "힌트:\n",
    "\n",
    "1. 새로운 사전을 생성해서 각 사전의 아이템을 추가한다.\n",
    "2. 상호 사전에 없는 것은 setdefault를 사용하여 정의한다.\n"
   ]
  },
  {
   "cell_type": "code",
   "execution_count": 96,
   "metadata": {},
   "outputs": [
    {
     "name": "stdout",
     "output_type": "stream",
     "text": [
      "\n",
      "a 사전\n",
      "1101 삼립빵 66 80000\n",
      "1102 서울우유 45 42000\n",
      "1105 퐁퐁 46 40020\n",
      "1108 민트껌 90 17000\n",
      "1109 감자깡 90 32000\n",
      "\n",
      "b 사전\n",
      "1102 서울우유 42 39000\n",
      "1103 테이프 30 27000\n",
      "1105 퐁퐁 90 70000\n",
      "1107 커피 44 33000\n",
      "1108 민트껌 40 10000\n",
      "1109 감자깡 30 12000\n",
      "\n",
      "c 사전\n",
      "1101 삼립빵 66 80000\n",
      "1102 서울우유 87 81000\n",
      "1105 퐁퐁 136 110020\n",
      "1108 민트껌 130 27000\n",
      "1109 감자깡 120 44000\n",
      "1103 테이프 30 27000\n",
      "1107 커피 44 33000\n"
     ]
    }
   ],
   "source": [
    "a= {'1101':['삼립빵', 66,80000],'1102':['서울우유', 45,42000],'1105':['퐁퐁', 46,40020],'1108':['민트껌', 90,17000], '1109':['감자깡', 90,32000]}\n",
    "b= {'1102':['서울우유', 42,39000],'1103':['테이프', 30,27000],'1105':['퐁퐁', 90,70000],'1107':['커피', 44,33000],'1108':['민트껌', 40,10000], '1109':['감자깡', 30,12000]}\n",
    "\n",
    "# a를 c로 복사\n",
    "c= a.copy()\n",
    "\n",
    "# b를 반복\n",
    "for k,v in b.items():\n",
    "    c_v = c.setdefault(k,[\"\",0,0])              # b 사전의 key가 없으며, c에 default 값으로 선언, 있으면 값을 반환\n",
    "    temp = v[0], v[1] + c_v[1], v[2]+ c_v[2]    # b 사전의 값에 c 사전의 개수, 가격을 합산 (이름, 개수, 가격)\n",
    "    c[k] = list(temp)                           # c 사전에 k key에 리스트를 저장\n",
    "\n",
    "       \n",
    "print (\"\\na 사전\")   \n",
    "for k,v in a.items():\n",
    "    print(k, v[0], v[1], v[2])\n",
    "    \n",
    "print (\"\\nb 사전\")           \n",
    "for k,v in b.items():\n",
    "    print(k, v[0], v[1], v[2])\n",
    "\n",
    "print (\"\\nc 사전\")       \n",
    "for k,v in c.items():\n",
    "    print(k, v[0], v[1], v[2])    \n",
    "    \n",
    "    \n"
   ]
  }
 ],
 "metadata": {
  "kernelspec": {
   "display_name": "Python 3.10.5 64-bit (windows store)",
   "language": "python",
   "name": "python3"
  },
  "language_info": {
   "codemirror_mode": {
    "name": "ipython",
    "version": 3
   },
   "file_extension": ".py",
   "mimetype": "text/x-python",
   "name": "python",
   "nbconvert_exporter": "python",
   "pygments_lexer": "ipython3",
   "version": "3.10.5"
  },
  "orig_nbformat": 4,
  "vscode": {
   "interpreter": {
    "hash": "6be026cc2f54c9bec22506d53e3e394c3402c3c44c1202f9383de7e3faf9cb28"
   }
  }
 },
 "nbformat": 4,
 "nbformat_minor": 2
}
