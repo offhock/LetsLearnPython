{
 "cells": [
  {
   "cell_type": "markdown",
   "metadata": {},
   "source": [
    "# For 문\n",
    "\n",
    "집단형 자료에 대해 순환하며 정해진 문자들을 반복 처리 (반복문, 순환문)\n",
    "\n",
    "``` python\n",
    "    for 변수 in 집단형:\n",
    "        처리할 문장들\n",
    "```"
   ]
  },
  {
   "cell_type": "code",
   "execution_count": 1,
   "metadata": {},
   "outputs": [
    {
     "name": "stdout",
     "output_type": "stream",
     "text": [
      "10\n",
      "9\n",
      "8\n",
      "6\n",
      "5\n"
     ]
    }
   ],
   "source": [
    "for ele in 10, 9, 8, 6, 5:\n",
    "    print(ele)"
   ]
  },
  {
   "cell_type": "markdown",
   "metadata": {},
   "source": [
    "\n",
    "* range() 함수\n",
    "반복 수치를 발생시키는 내장함수\n",
    "시작점부터 끝점 직전까지 간격을 두고 발생한다.\n",
    "\n",
    "``` python\n",
    "  range (시작, 끝, 간격)\n",
    "```"
   ]
  },
  {
   "cell_type": "code",
   "execution_count": 3,
   "metadata": {},
   "outputs": [
    {
     "name": "stdout",
     "output_type": "stream",
     "text": [
      "0 1 2 3 4 "
     ]
    }
   ],
   "source": [
    "for ele in range(5):\n",
    "    print(ele, end=' ')"
   ]
  },
  {
   "cell_type": "code",
   "execution_count": 5,
   "metadata": {},
   "outputs": [
    {
     "name": "stdout",
     "output_type": "stream",
     "text": [
      "3 5 7 "
     ]
    }
   ],
   "source": [
    "for ele in range(3,9,2):\n",
    "    print(ele,end=' ')"
   ]
  },
  {
   "cell_type": "code",
   "execution_count": 4,
   "metadata": {},
   "outputs": [
    {
     "name": "stdout",
     "output_type": "stream",
     "text": [
      "10 9 8 7 6 5 4 3 "
     ]
    }
   ],
   "source": [
    "k= range(10,2,-1)\n",
    "for j in k:\n",
    "    print(j, end=' ')"
   ]
  },
  {
   "cell_type": "code",
   "execution_count": 6,
   "metadata": {},
   "outputs": [],
   "source": [
    "k= range(10,2)  # k 범위가 없다.\n",
    "for j in k:\n",
    "    print(j, end=' ')  "
   ]
  },
  {
   "cell_type": "code",
   "execution_count": 9,
   "metadata": {},
   "outputs": [
    {
     "name": "stdout",
     "output_type": "stream",
     "text": [
      "짝수합:  2550 , 홀수합:  2500\n"
     ]
    }
   ],
   "source": [
    "# 연습문제 1\n",
    "# 1부터 100까지 짝수 홀수 합을 각각 구하라\n",
    "\n",
    "odd= 0\n",
    "even = 0\n",
    "\n",
    "for n in range(1,101):\n",
    "    rem= n % 2\n",
    "    if rem == 0:\n",
    "        even = even + n\n",
    "    else:\n",
    "        odd = odd + n\n",
    "\n",
    "print (\"짝수합: \", even, \", 홀수합: \", odd)\n"
   ]
  },
  {
   "cell_type": "code",
   "execution_count": 11,
   "metadata": {},
   "outputs": [
    {
     "name": "stdout",
     "output_type": "stream",
     "text": [
      "\n",
      "\n",
      "\n",
      "\n",
      "\n",
      " ******* 5 ******\n",
      "   5 x   1 =     5 \n",
      "   5 x   2 =    10 \n",
      "   5 x   3 =    15 \n",
      "   5 x   4 =    20 \n",
      "   5 x   5 =    25 \n",
      "   5 x   6 =    30 \n",
      "   5 x   7 =    35 \n",
      "   5 x   8 =    40 \n",
      "   5 x   9 =    45 \n",
      "\n",
      "\n",
      "\n",
      "\n",
      "\n",
      " ******* 1 ******\n",
      "   1 x   1 =     1 \n",
      "   1 x   2 =     2 \n",
      "   1 x   3 =     3 \n",
      "   1 x   4 =     4 \n",
      "   1 x   5 =     5 \n",
      "   1 x   6 =     6 \n",
      "   1 x   7 =     7 \n",
      "   1 x   8 =     8 \n",
      "   1 x   9 =     9 \n",
      "\n",
      "\n",
      "\n",
      "종료\n"
     ]
    }
   ],
   "source": [
    "# 연습문제 2\n",
    "# 사용자로 부터 숫자를 입력 받아서 그 숫자에 해당하는 구구단을 출력하라.\n",
    "\n",
    "while True:\n",
    "    print('\\n')\n",
    "\n",
    "    what= input('  몇단?  ')\n",
    "    if what.isdecimal():\n",
    "        what2=int(what)\n",
    "        print ('\\n\\n' + \" ******* {} ******\".format(what2))\n",
    "    \n",
    "        for i in range (1,10):\n",
    "            res = what2 * i\n",
    "            print (' {0:3d} x {1:3d} = {2:5d} '.format(what2,i,res))\n",
    "\n",
    "    else:\n",
    "        print ('종료')\n",
    "        break\n",
    "\n"
   ]
  },
  {
   "cell_type": "code",
   "execution_count": 14,
   "metadata": {},
   "outputs": [
    {
     "name": "stdout",
     "output_type": "stream",
     "text": [
      "7 은 7의 배수 입니다.\n",
      "14 은 7의 배수 입니다.\n",
      "21 은 7의 배수 입니다.\n",
      "28 은 7의 배수 입니다.\n",
      "35 은 7의 배수 입니다.\n",
      "42 은 7의 배수 입니다.\n",
      "49 은 7의 배수 입니다.\n",
      "56 은 7의 배수 입니다.\n",
      "63 은 7의 배수 입니다.\n",
      "합이 2000을 넘었습니다.\n",
      "2031\n",
      "\n",
      " 프로그램을 종료합니다.\n"
     ]
    }
   ],
   "source": [
    "# 연습문제 3\n",
    "# 숫자 두개를 입력 받아서 두개의 숫자 사이에 존재한느 모든 자연수의 합을 구하라\n",
    "# 단, 자연수의 합을 구할 때 7의 배수는 제외 \n",
    "# 단, 합이 2000이 넘으면 종료하라.\n",
    "\n",
    "while True:\n",
    "    total = 0\n",
    "    start = input (\"시작값을 입력하세요...\")\n",
    "    end = input (\"끝값을 입력하세요...\")\n",
    "\n",
    "    if not start.isnumeric() or not end.isnumeric():\n",
    "        print ('\\n 프로그램을 종료합니다.')\n",
    "        break\n",
    "\n",
    "    start= int(start)\n",
    "    end= int(end)\n",
    "\n",
    "    for n in range(start, end):\n",
    "        if n % 7 == 0: \n",
    "            print (n, '은 7의 배수 입니다.')\n",
    "            continue\n",
    "        total = total + n\n",
    "        if total >=2000: \n",
    "            print ('합이 2000을 넘었습니다.')\n",
    "            break\n",
    "\n",
    "    print (total)\n"
   ]
  },
  {
   "cell_type": "markdown",
   "metadata": {},
   "source": [
    "# 반복문의 중첩\n",
    "\n",
    "* for나 while 블럭 내에 또 다른 for나 while이 놓이는 경우\n"
   ]
  },
  {
   "cell_type": "code",
   "execution_count": 103,
   "metadata": {},
   "outputs": [
    {
     "name": "stdout",
     "output_type": "stream",
     "text": [
      "ABCDEFGHIJKLMNOPQRSTUVWXYZ\n",
      "BCDEFGHIJKLMNOPQRSTUVWXYZA\n",
      "CDEFGHIJKLMNOPQRSTUVWXYZAB\n",
      "DEFGHIJKLMNOPQRSTUVWXYZABC\n",
      "EFGHIJKLMNOPQRSTUVWXYZABCD\n",
      "FGHIJKLMNOPQRSTUVWXYZABCDE\n",
      "GHIJKLMNOPQRSTUVWXYZABCDEF\n",
      "HIJKLMNOPQRSTUVWXYZABCDEFG\n",
      "IJKLMNOPQRSTUVWXYZABCDEFGH\n",
      "JKLMNOPQRSTUVWXYZABCDEFGHI\n",
      "KLMNOPQRSTUVWXYZABCDEFGHIJ\n",
      "LMNOPQRSTUVWXYZABCDEFGHIJK\n",
      "MNOPQRSTUVWXYZABCDEFGHIJKL\n",
      "NOPQRSTUVWXYZABCDEFGHIJKLM\n",
      "OPQRSTUVWXYZABCDEFGHIJKLMN\n",
      "PQRSTUVWXYZABCDEFGHIJKLMNO\n",
      "QRSTUVWXYZABCDEFGHIJKLMNOP\n",
      "RSTUVWXYZABCDEFGHIJKLMNOPQ\n",
      "STUVWXYZABCDEFGHIJKLMNOPQR\n",
      "TUVWXYZABCDEFGHIJKLMNOPQRS\n",
      "UVWXYZABCDEFGHIJKLMNOPQRST\n",
      "VWXYZABCDEFGHIJKLMNOPQRSTU\n",
      "WXYZABCDEFGHIJKLMNOPQRSTUV\n",
      "XYZABCDEFGHIJKLMNOPQRSTUVW\n",
      "YZABCDEFGHIJKLMNOPQRSTUVWX\n",
      "ZABCDEFGHIJKLMNOPQRSTUVWXY\n",
      "ABCDEFGHIJKLMNOPQRSTUVWXYZ\n",
      "BCDEFGHIJKLMNOPQRSTUVWXYZA\n",
      "CDEFGHIJKLMNOPQRSTUVWXYZAB\n",
      "DEFGHIJKLMNOPQRSTUVWXYZABC\n",
      "EFGHIJKLMNOPQRSTUVWXYZABCD\n",
      "FGHIJKLMNOPQRSTUVWXYZABCDE\n",
      "GHIJKLMNOPQRSTUVWXYZABCDEF\n",
      "HIJKLMNOPQRSTUVWXYZABCDEFG\n",
      "IJKLMNOPQRSTUVWXYZABCDEFGH\n",
      "JKLMNOPQRSTUVWXYZABCDEFGHI\n",
      "KLMNOPQRSTUVWXYZABCDEFGHIJ\n",
      "LMNOPQRSTUVWXYZABCDEFGHIJK\n",
      "MNOPQRSTUVWXYZABCDEFGHIJKL\n",
      "NOPQRSTUVWXYZABCDEFGHIJKLM\n",
      "OPQRSTUVWXYZABCDEFGHIJKLMN\n",
      "PQRSTUVWXYZABCDEFGHIJKLMNO\n",
      "QRSTUVWXYZABCDEFGHIJKLMNOP\n",
      "RSTUVWXYZABCDEFGHIJKLMNOPQ\n",
      "STUVWXYZABCDEFGHIJKLMNOPQR\n",
      "TUVWXYZABCDEFGHIJKLMNOPQRS\n",
      "UVWXYZABCDEFGHIJKLMNOPQRST\n",
      "VWXYZABCDEFGHIJKLMNOPQRSTU\n",
      "WXYZABCDEFGHIJKLMNOPQRSTUV\n",
      "XYZABCDEFGHIJKLMNOPQRSTUVW\n",
      "YZABCDEFGHIJKLMNOPQRSTUVWX\n",
      "ZABCDEFGHIJKLMNOPQRSTUVWXY\n"
     ]
    }
   ],
   "source": [
    "# 연습문제\n",
    "# 변수 apb에 다음과 같이 입력한후에 저장한 문자열 조작을 통해서 1회시 좌 시프트해라.\n",
    "apb = 'ABCDEFGHIJKLMNOPQRSTUVWXYZ'\n",
    "length=len(apb)\n",
    "for n in range(0,length):\n",
    "    a = apb[n:length]\n",
    "    b = apb[-(length+1):-(length+1)+n+1]\n",
    "    print(a+b)\n",
    "\n",
    "for i in range(26):\n",
    "    s = apb[i:length] + apb[0:i]    \n",
    "    print(s)\n",
    "\n"
   ]
  },
  {
   "cell_type": "markdown",
   "metadata": {},
   "source": [
    "# try 문\n",
    "\n",
    "* 예외처리 문장\n",
    "  \n",
    "  ``` python\n",
    "    try:\n",
    "        수행문 A                #  수행문 A를 수행하다가, \n",
    "    except:\n",
    "        수행문 B                # 예외 발생시 수행문 B 실행\n",
    "    else:\n",
    "        수행문 C                # 에외가 없을시 수행문 C 실행\n",
    "    finally:\n",
    "        수행문 D                # 예외 발생과 무관하게 수행문 D 실행\n",
    "  ```"
   ]
  },
  {
   "cell_type": "code",
   "execution_count": 109,
   "metadata": {},
   "outputs": [
    {
     "name": "stdout",
     "output_type": "stream",
     "text": [
      "나눗셈 결과는 0.045454545454545456 입니다.\n",
      "계산이 끝났습니다.\n",
      "나눗셈 결과는 3.0 입니다.\n",
      "계산이 끝났습니다.\n",
      "division by zero\n",
      "계산이 끝났습니다.\n"
     ]
    }
   ],
   "source": [
    "import sys\n",
    "while True:\n",
    "\n",
    "    a= input(\"\\n 첫번째 값을 입력하세요\")\n",
    "    b= input(\"\\n 두번째 값을 입력하세요\")\n",
    "\n",
    "    try:\n",
    "        a=int(a)\n",
    "        b=int(b)\n",
    "        c=a/b\n",
    "    except:\n",
    "        e= str(sys.exc_info()[1])\n",
    "        print(e)\n",
    "        if \"devision by zero\" in e:\n",
    "            print ('0으로 나눌수 없어요')\n",
    "        elif \"invalid literal for int()\" in e:\n",
    "            print('숫자만 입력해주세요')\n",
    "        break\n",
    "    else:\n",
    "        print ('나눗셈 결과는', c, '입니다.')\n",
    "    finally:\n",
    "        print ('계산이 끝났습니다.')"
   ]
  }
 ],
 "metadata": {
  "kernelspec": {
   "display_name": "Python 3.10.5 64-bit (windows store)",
   "language": "python",
   "name": "python3"
  },
  "language_info": {
   "codemirror_mode": {
    "name": "ipython",
    "version": 3
   },
   "file_extension": ".py",
   "mimetype": "text/x-python",
   "name": "python",
   "nbconvert_exporter": "python",
   "pygments_lexer": "ipython3",
   "version": "3.10.5"
  },
  "orig_nbformat": 4,
  "vscode": {
   "interpreter": {
    "hash": "6be026cc2f54c9bec22506d53e3e394c3402c3c44c1202f9383de7e3faf9cb28"
   }
  }
 },
 "nbformat": 4,
 "nbformat_minor": 2
}
