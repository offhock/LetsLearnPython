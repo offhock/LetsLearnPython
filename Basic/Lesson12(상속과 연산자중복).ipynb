{
 "cells": [
  {
   "cell_type": "markdown",
   "metadata": {},
   "source": [
    "# 상속과 연산자 중복\n",
    "\n",
    "## 상속 (inheritance)\n",
    "\n",
    "* 상속\n",
    "  * 어떤 클래스가 다른 클래스로부터 특성과 기능을 물려 받는 것\n",
    "  * 정의되어 있는 데이터 공간이나 메서드 재정의 또는 확장 가능 (overriding)\n",
    "  * 코드 재사용성 (code reusability) 증가\n",
    "  * 논리적 유사성을 일반화 함으로써 이해가 쉽다.\n",
    "  * 상속하는 원본 클래스: base class, super class, parent class\n",
    "  * 상속받아 만들어진 클래스: Derived class, Sub class, child class\n",
    "\n",
    "> 사용법\n",
    "``` python\n",
    "      class parent:\n",
    "          내용....\n",
    "\n",
    "      class child(paret):   # 상속 받는 경우\n",
    "          내용....\n",
    "```\n",
    "\n",
    "### 클래스 생성과 상속"
   ]
  },
  {
   "cell_type": "code",
   "execution_count": 7,
   "metadata": {},
   "outputs": [
    {
     "name": "stdout",
     "output_type": "stream",
     "text": [
      "\n",
      "이  름:타이탄\n",
      "무  게:2.5\n",
      "길  이:4.8\n",
      "배리량:2200\n",
      "\n",
      "이  름:볼보\n",
      "무  게:5.5\n",
      "길  이:6.8\n",
      "배리량:11200\n"
     ]
    }
   ],
   "source": [
    "# 예: Car 클래스\n",
    "\n",
    "class Car:\n",
    "    def __init__(self, name, weight, size, cylinder):\n",
    "        self.name= name\n",
    "        self.weight= weight\n",
    "        self.size = size\n",
    "        self.cylinder = cylinder\n",
    "    def showspec(self):\n",
    "        print(f\"\\n이  름:{self.name}\")\n",
    "        print(f\"무  게:{self.weight}\")\n",
    "        print(f\"길  이:{self.size}\")\n",
    "        print(f\"배리량:{self.cylinder}\")\n",
    "\n",
    "# 예: Truck  클래스\n",
    "\n",
    "class Truck(Car):\n",
    "    pass            # 그대로 상속 받을때 사용\n",
    "\n",
    "t1= Truck(\"타이탄\",2.5,4.8,2200)\n",
    "t2= Truck(\"볼보\",5.5,6.8,11200)\n",
    "t1.showspec()\n",
    "t2.showspec()     "
   ]
  },
  {
   "cell_type": "markdown",
   "metadata": {},
   "source": [
    "### 메서드 확장과 치환\n",
    "    - 세단 차종을 표현할 수 있도록 Sedan 클래스 만들기 (color속성 추가)\n",
    "\n",
    "* 상위 클래스인 Car에 접근하는 방법\n",
    "\n",
    "1. super() 함수 사용\n",
    "```python\n",
    "        super().__init__(name, weight, size, cylinder) \n",
    "```\n",
    "2. 상위 클래스이름이용\n",
    "```python\n",
    "        Car.__init__(self, name, weight, size, cylinder) \n",
    "```"
   ]
  },
  {
   "cell_type": "code",
   "execution_count": 9,
   "metadata": {},
   "outputs": [
    {
     "name": "stdout",
     "output_type": "stream",
     "text": [
      "\n",
      "이  름:쏘나타\n",
      "무  게:1.6\n",
      "길  이:1.9\n",
      "배리량:2600\n",
      "색  상:black\n"
     ]
    }
   ],
   "source": [
    "# 예: Car 클래스\n",
    "\n",
    "class Car:\n",
    "    def __init__(self, name, weight, size, cylinder):\n",
    "        self.name= name\n",
    "        self.weight= weight\n",
    "        self.size = size\n",
    "        self.cylinder = cylinder\n",
    "    def showspec(self):\n",
    "        print(f\"\\n이  름:{self.name}\")\n",
    "        print(f\"무  게:{self.weight}\")\n",
    "        print(f\"길  이:{self.size}\")\n",
    "        print(f\"배리량:{self.cylinder}\")\n",
    "\n",
    "# 예: Sedan  클래스\n",
    "\n",
    "class Sedan(Car):\n",
    "    def __init__(self, name, weight, size, cylinder, color):    # color 속성 추가\n",
    "        super().__init__(name, weight, size, cylinder)          # 방법1: 상속받은 car의 생성자 사용하여 초기화\n",
    "        ##  Car.__init__(self, name, weight, size, cylinder)    # 방법2: 클래스 이름 사용\n",
    "        self.color= color\n",
    "    def showspec(self):                                         # 함수 오버라이딩\n",
    "        super().showspec()                              \n",
    "        print(f\"색  상:{self.color}\")\n",
    "        \n",
    "\n",
    "sedan1= Sedan(\"쏘나타\",1.6,1.9,2600,\"black\")\n",
    "sedan1.showspec()\n"
   ]
  },
  {
   "cell_type": "markdown",
   "metadata": {},
   "source": [
    "### 이차 상속\n",
    "\n",
    "- SUV 클래스 설계 (Sedan 클래스처럼 색상)\n",
    "\n",
    "```python\n",
    "\n",
    "class SUV(Sedan):\n",
    "    pass\n",
    "```\n",
    "\n",
    "\n",
    "### 클래스 정체성 확인 (`__bases__`, `__class__`, `isinstance()`)\n",
    "\n",
    "- 클래스의 정보를 확인하기 위해서 사용\n",
    "  `help`, `isinstance`"
   ]
  },
  {
   "cell_type": "code",
   "execution_count": 10,
   "metadata": {},
   "outputs": [
    {
     "name": "stdout",
     "output_type": "stream",
     "text": [
      "(<class 'object'>,)\n",
      "<class '__main__.Car'>\n",
      "(<class '__main__.Car'>,)\n",
      "<class '__main__.Truck'>\n",
      "<__main__.Truck object at 0x000001420FA72530>\n",
      "<class '__main__.Truck'>\n",
      "True\n",
      "Help on class Truck in module __main__:\n",
      "\n",
      "class Truck(Car)\n",
      " |  Truck(name, weight, size, cylinder)\n",
      " |  \n",
      " |  Method resolution order:\n",
      " |      Truck\n",
      " |      Car\n",
      " |      builtins.object\n",
      " |  \n",
      " |  Methods inherited from Car:\n",
      " |  \n",
      " |  __init__(self, name, weight, size, cylinder)\n",
      " |  \n",
      " |  showspec(self)\n",
      " |  \n",
      " |  ----------------------------------------------------------------------\n",
      " |  Data descriptors inherited from Car:\n",
      " |  \n",
      " |  __dict__\n",
      " |      dictionary for instance variables (if defined)\n",
      " |  \n",
      " |  __weakref__\n",
      " |      list of weak references to the object (if defined)\n",
      "\n",
      "None\n"
     ]
    }
   ],
   "source": [
    "print(Car.__bases__)\n",
    "print(Car)\n",
    "print(Truck.__bases__)\n",
    "print(Truck)\n",
    "print(t1)\n",
    "print(t1.__class__)\n",
    "print(isinstance(t1,Truck))         # t1이 Truck의 클래스냐?\n",
    "print(help(Truck))                  # 해당 클래스에 대한 설명을 볼수 있음.\n"
   ]
  },
  {
   "cell_type": "markdown",
   "metadata": {},
   "source": [
    "### 파이썬 내장클래스 상속\n",
    "\n",
    "- list, dict 등 파이썬 내장클래스를 상속 받아 특정 메서만 재정의해서 사용\n",
    "\n"
   ]
  },
  {
   "cell_type": "code",
   "execution_count": 13,
   "metadata": {},
   "outputs": [
    {
     "name": "stdout",
     "output_type": "stream",
     "text": [
      "['america', 'china', 'japan', 'korea']\n",
      "dict_keys(['japan', 'china', 'america', 'korea'])\n"
     ]
    }
   ],
   "source": [
    "# 파이썬 dict 내장함수를 이용하여 key를 정렬하는 클래스 만들기\n",
    "\n",
    "class MyDict(dict):\n",
    "    def keys(self):\n",
    "        k=super().keys()\n",
    "        return sorted(k)    # key를 sorting한 결과를 반환\n",
    "\n",
    "dic={'japan':26,'china':28,'america':34,'korea':33}\n",
    "data= MyDict(dic)\n",
    "\n",
    "print(data.keys())      # key가 정렬된 MyDict \n",
    "print(dic.keys())       # 파이썬이 제공하는 dict"
   ]
  },
  {
   "cell_type": "code",
   "execution_count": 15,
   "metadata": {},
   "outputs": [
    {
     "name": "stdout",
     "output_type": "stream",
     "text": [
      "[('japan', 26), ('china', 28), ('korea', 33), ('america', 34)]\n",
      "japan 26\n",
      "china 28\n",
      "korea 33\n",
      "america 34\n",
      "dict_items([('japan', 26), ('china', 28), ('america', 34), ('korea', 33)])\n",
      "japan 26\n",
      "china 28\n",
      "america 34\n",
      "korea 33\n"
     ]
    }
   ],
   "source": [
    "class MyDict2(dict):\n",
    "    def items(self):\n",
    "        k=super().items()\n",
    "        return sorted(k, key=lambda a:a[1])\n",
    "    \n",
    "dic2={'japan':26,'china':28,'america':34,'korea':33}\n",
    "data2= MyDict2(dic2)\n",
    "\n",
    "print(data2.items())       # vlue 가 정렬된 MyDict  (america와 korea의 순서가 바뀜)\n",
    "for k, v in data2.items():\n",
    "    print(k, v)\n",
    "    \n",
    "print(dic2.items())       # 파이썬이 제공하는 dict\n",
    "for k, v in dic2.items():\n",
    "    print(k, v)"
   ]
  },
  {
   "cell_type": "markdown",
   "metadata": {},
   "source": [
    "### GUI 상속 활용 예제\n"
   ]
  },
  {
   "cell_type": "code",
   "execution_count": 16,
   "metadata": {},
   "outputs": [
    {
     "name": "stdout",
     "output_type": "stream",
     "text": [
      "취소\n",
      "value is 122\n",
      "취소\n"
     ]
    }
   ],
   "source": [
    "from tkinter import *\n",
    "\n",
    "class MyDialog:    \n",
    "    def __init__(self, parent):        \n",
    "        Label(parent, text=\"값입력\").pack()\n",
    "    \n",
    "        self.e= Entry(parent)\n",
    "        self.e.pack(padx=5)\n",
    "        \n",
    "        self.b= Button(parent, text=\"확인\", command=self.ok_click)\n",
    "        self.b.pack(pady=5)\n",
    "        \n",
    "    def ok_click(self):\n",
    "        print(\"value is\", self.e.get())\n",
    "\n",
    "class BranchDialog(MyDialog):\n",
    "    def __init__(self, parent):\n",
    "        super().__init__(parent)\n",
    "        self.b2= Button(parent, text=\"취소\", command=self.cancel_click)\n",
    "        self.b2.pack(pady=5)\n",
    "    def cancel_click(self):\n",
    "        print(\"취소\")\n",
    "\n",
    "if __name__ == '__main__':\n",
    "\n",
    "    root= Tk()\n",
    "    adiag= MyDialog(root)\n",
    "    bdiag= BranchDialog(Tk())\n",
    "    root.mainloop()"
   ]
  },
  {
   "cell_type": "markdown",
   "metadata": {},
   "source": [
    "### Magic method & 연산자 중복 \n",
    "\n",
    "#### 연산자 중복이란?\n",
    "  - 언어에서 미리 적의되어 있는 일부 연산자나 메서드들에 대해 개발자 의도를 담아 처리할 수 있도록 클래스에서 재정의를 허용하는 것\n",
    "  - Special method, Magic method, Dunder method (Double under bar를 사용하므로..  언더바)\n",
    "  - class 작성을 통해서 재정의 한다.\n",
    "  - 이름 앞뒤에 더블 언더스코어 (`__`)가 붙어 있다.\n",
    "  - 대표적인 예로 `__init__`, `__str__`, `__add__`,`__it__` 등 이 있다.\n",
    "  \n"
   ]
  },
  {
   "cell_type": "code",
   "execution_count": 20,
   "metadata": {},
   "outputs": [
    {
     "name": "stdout",
     "output_type": "stream",
     "text": [
      "<class 'int'>\n",
      "['__abs__', '__add__', '__and__', '__bool__', '__ceil__', '__class__', '__delattr__', '__dir__', '__divmod__', '__doc__', '__eq__', '__float__', '__floor__', '__floordiv__', '__format__', '__ge__', '__getattribute__', '__getnewargs__', '__gt__', '__hash__', '__index__', '__init__', '__init_subclass__', '__int__', '__invert__', '__le__', '__lshift__', '__lt__', '__mod__', '__mul__', '__ne__', '__neg__', '__new__', '__or__', '__pos__', '__pow__', '__radd__', '__rand__', '__rdivmod__', '__reduce__', '__reduce_ex__', '__repr__', '__rfloordiv__', '__rlshift__', '__rmod__', '__rmul__', '__ror__', '__round__', '__rpow__', '__rrshift__', '__rshift__', '__rsub__', '__rtruediv__', '__rxor__', '__setattr__', '__sizeof__', '__str__', '__sub__', '__subclasshook__', '__truediv__', '__trunc__', '__xor__', 'as_integer_ratio', 'bit_count', 'bit_length', 'conjugate', 'denominator', 'from_bytes', 'imag', 'numerator', 'real', 'to_bytes'] "
     ]
    }
   ],
   "source": [
    "a=255\n",
    "print(type(a))\n",
    "a2=a.__dir__()              # int 클래스의 매직메서드 출력\n",
    "a2.sort()\n",
    "print(a2,end=' ')"
   ]
  },
  {
   "cell_type": "markdown",
   "metadata": {},
   "source": [
    "#### Magic method 구분\n",
    "\n",
    "1. 연산의 관리\n",
    "   - 산술연산자, 확장산술연자사, 비교연산자 등에 대한 정의 가능  \n",
    "   - (+,-, <, <= 등 사용시 호출된다.)\n",
    "   - `__add__(self,oth)`, `__sub__(self,oth)`,`__mul__(self,oth)`,`__eq__(self,oth)`, `__it__(self,oth)`등..\n",
    "  \n",
    "<br>\n",
    "\n",
    "2. 객체의 생성, 초기화, 소멸 \n",
    "   - 객체의 생성 또는 소멸시 호출\n",
    "   - `__new__(cls[,...])`, `__init__(self[,...])`, `__del__(self)`\n",
    "<br> \n",
    "\n",
    "3. 객체의 표현\n",
    "   - print(), str(), repr()함수 사용시 호출 (가령, `__str__`은 인스턴스가 문자열로 어떻게 표현될지 정의 할 수 있음)\n",
    "   - `__repr__(self)`, `__str__(self)` 등\n",
    "\n",
    "<br>\n",
    "\n",
    "4. 속성의 관리\n",
    "   - `__getattr__(self,name)` : 객체에 존재하지 않는 속성에 참조 시도가 있을때 호출 함\n",
    "   - `__setatr__(self)` : 객체의 속성 변경 발생시 호출 (재귀호출 주의)\n",
    "   - `__getattribute__(self,name)` : 객체의 속성 참조시 무조건 호출, 이 메서드를 재정의 하면 `__getattr__`은 불통\n",
    "   - `__delattr__(self,name)` : 객체의 속성을 del 키워드로 삭제시\n",
    "   - `__dir__(self)` : 객체의 속성을 꺼내보는 `dir()`함수 사용시\n",
    "   - `__slots__(변수명)` : 사용할 변수를 미리 등록\n",
    "\n",
    "<br>  \n",
    "\n",
    "5. 디스크립터 (Descriptor) 관리\n",
    "   - `__get__(self, instance, owner)` : 디스크립터의 값이 회수될 때 호출됨 (instance: 소유자 객체, owner: 소유자 클래스 자체)\n",
    "   - `__set__(self, instance, value)` : 디스크립터의 값이 변경될 때 호출됨 (instance: 소유자 객체, value: 설정하는 값)\n",
    "   - `__delete__(self, instance)` : 디스크립터의 값이 삭제될 때 호출 \n",
    "  \n",
    "<br>\n",
    "\n",
    "6. 컨테이너 관리\n",
    "   - 컨테이너 : 집단형 자료 (list, tuple같은 시퀀스, dictionary 같은 맵핑형 등)의 보관소\n",
    "   - `__len(self)`: 객체의 길이를 반환, `len()`함수 사용시 호출\n",
    "   - `__getitem(self,key)` : 객체에서 `[]` 연산자를 사용하여 조회시 호출 (`list[0]`은 `list.__getitem__(0)`)\n",
    "   - `__missing__(self,key)` : 키가 dictionary에 없을 시 호출\n",
    "   - `__setitem(self, key,value)` : 객체에서 `[]`연산자를 사용하여 변수에 값을 넣을 때 호출 (list[0]='korea'는 `list.__settime__(0,'korea')`로 동작)\n",
    "   - `__delitem(self, key)`: del object[]를 사용시 호출\n",
    "   - `__iter__(self)`: 컨테이너의 iterator를 반환\n",
    "   - `__reversed__(self)`: reversed() 함수 사용시 호출\n",
    "   - `__contains__(self, item)`: in 연산자 사용하여 특정 하이템의 존재여부를 확인시 호출 이 메서드를 정의하지 않을 경우,`__iter__`를 통해 이터레이션을 돌며 확인"
   ]
  },
  {
   "cell_type": "code",
   "execution_count": 25,
   "metadata": {},
   "outputs": [
    {
     "name": "stdout",
     "output_type": "stream",
     "text": [
      "korea590\n"
     ]
    }
   ],
   "source": [
    "# 문자와 숫자의 덧셈연산 시도\n",
    "\n",
    "class MyStr(object):\n",
    "    def __init__(self,string):\n",
    "        self.string = string    \n",
    "    def __add__(self, string2):           # '+' 연산자를 만날 경우\n",
    "        return self.string + str(string2)\n",
    "    \n",
    "aa= MyStr(\"korea\")\n",
    "bb= aa + 590                              # bb= aa.__add__(590) 으로 변환하여 연산됨\n",
    "print(bb)"
   ]
  },
  {
   "cell_type": "code",
   "execution_count": 33,
   "metadata": {},
   "outputs": [
    {
     "name": "stdout",
     "output_type": "stream",
     "text": [
      "[103, 206, 309, 412, 515]\n"
     ]
    },
    {
     "data": {
      "text/plain": [
       "[103, 206, 309, 412, 515]"
      ]
     },
     "execution_count": 33,
     "metadata": {},
     "output_type": "execute_result"
    }
   ],
   "source": [
    "# 리스트 + 연산에 활용 예\n",
    "\n",
    "class MyList(object):\n",
    "    def __init__(self,data1):\n",
    "        self.mylist= data1\n",
    "    def __add__(self, data2):\n",
    "        new_list = [x + y for x , y in zip(self.mylist, data2.mylist)]  # zip 함수로 반환되는 x,y를 추출하고 x+y를 더하여 리스트 항목 만듬)\n",
    "        return new_list\n",
    "\n",
    "aa = MyList([3,6,9,12,15])\n",
    "bb = MyList([100,200,300,400,500])\n",
    "\n",
    "cc= aa+bb               # cc= aa.__add__(bb)로 반환하여 연산\n",
    "print(cc)\n",
    "\n",
    "# 동일한 여산\n",
    "aaa = [3,6,9,12,15]\n",
    "bbb = [100,200,300,400,500]\n",
    "new_list = [x + y for x , y in zip(aaa, bbb)]\n",
    "new_list"
   ]
  },
  {
   "cell_type": "markdown",
   "metadata": {},
   "source": [
    "\n",
    "### descriptor 객체\n",
    "  * `어떤 객체(소유자 onwer)`의 속성 변화를 백그라운에서 `추적 및 관리하기(디스크립터)` 위한 객체\n",
    "  * 디스크립터 클래스에 소유자 관리 대상 속성을 정의 하고 `__get__`, `__set__`, `__del__`등 메서드 정의\n",
    "  * 소유자 클래스 정의시 중요 속성을 속성으로 정의하고, 디스크립터의 인스턴스 할당\n",
    "  * 사용자쪽에서 소유자의 중요속성에 접근하면 `__set__`,`__get__` 처리됨\n"
   ]
  },
  {
   "cell_type": "code",
   "execution_count": 36,
   "metadata": {},
   "outputs": [
    {
     "name": "stdout",
     "output_type": "stream",
     "text": [
      "넣기 : \n",
      "꺼내오기 : 초록빛 바다\n",
      "꺼내오기 : 초록빛 바다\n",
      "꺼내온 결과 ---> 초록빛 바다\n"
     ]
    }
   ],
   "source": [
    "class Descriptor(object):\n",
    "    def __init__(self):\n",
    "        self.value=''\n",
    "    def __get__(self, instance, owner):\n",
    "        print(\"꺼내오기 : %s\" % self.value)\n",
    "        return self.value\n",
    "    def __set__(self,instance, value):\n",
    "        print(\"넣기 : %s\" % self.value)\n",
    "        self.value = value\n",
    "\n",
    "class Person(object):           # 소유자 wrapper\n",
    "    name=Descriptor()\n",
    "    \n",
    "pp=Person()             \n",
    "pp.name = '초록빛 바다'                 # 넣기\n",
    "pp.name                                # 꺼내 오기 \n",
    "print(\"꺼내온 결과 --->\", pp.name)      # 꺼내 오기 \n",
    "        "
   ]
  },
  {
   "cell_type": "markdown",
   "metadata": {},
   "source": [
    "![](Lesson12(디스크립터예제설명).drawio.svg)"
   ]
  },
  {
   "cell_type": "markdown",
   "metadata": {},
   "source": [
    "### decorator 활용 (Descriptor 대체)\n",
    "\n",
    "Decorators make defining new properties or modifying existing ones easy:\n",
    "\n",
    "``` py\n",
    "class C(object):\n",
    "    @property def x(self):\n",
    "        \"I am the 'x' property.\" return self._x\n",
    "    @x.setter def x(self, value):\n",
    "        self._x = value\n",
    "    @x.deleter def x(self):\n",
    "        del self._x\n",
    "```"
   ]
  },
  {
   "cell_type": "code",
   "execution_count": 47,
   "metadata": {},
   "outputs": [
    {
     "name": "stdout",
     "output_type": "stream",
     "text": [
      "속성이 변경되었습니다.\n",
      "속성이 변경되었습니다.\n",
      "속성이 변경되었습니다.\n",
      "속성이 변경되었습니다.\n",
      "속성이 변경되었습니다.\n",
      "속성참조\n",
      "0\n",
      "속성참조\n",
      "5\n",
      "속성참조\n",
      "10\n",
      "속성참조\n",
      "15\n",
      "속성참조\n",
      "20\n"
     ]
    },
    {
     "ename": "AttributeError",
     "evalue": "'sample' object has no attribute '__data'",
     "output_type": "error",
     "traceback": [
      "\u001b[1;31m---------------------------------------------------------------------------\u001b[0m",
      "\u001b[1;31mAttributeError\u001b[0m                            Traceback (most recent call last)",
      "\u001b[1;32mc:\\Users\\offho\\Code\\LetsLearnPython\\Basic\\Lesson12(상속과 연산자중복).ipynb 셀 21\u001b[0m in \u001b[0;36m<cell line: 23>\u001b[1;34m()\u001b[0m\n\u001b[0;32m     <a href='vscode-notebook-cell:/c%3A/Users/offho/Code/LetsLearnPython/Basic/Lesson12%28%EC%83%81%EC%86%8D%EA%B3%BC%20%EC%97%B0%EC%82%B0%EC%9E%90%EC%A4%91%EB%B3%B5%29.ipynb#ch0000023?line=19'>20</a>\u001b[0m \u001b[39mfor\u001b[39;00m i \u001b[39min\u001b[39;00m \u001b[39mrange\u001b[39m(\u001b[39m5\u001b[39m):                          \n\u001b[0;32m     <a href='vscode-notebook-cell:/c%3A/Users/offho/Code/LetsLearnPython/Basic/Lesson12%28%EC%83%81%EC%86%8D%EA%B3%BC%20%EC%97%B0%EC%82%B0%EC%9E%90%EC%A4%91%EB%B3%B5%29.ipynb#ch0000023?line=20'>21</a>\u001b[0m     \u001b[39mprint\u001b[39m(a[i]\u001b[39m.\u001b[39mdata)                       \n\u001b[1;32m---> <a href='vscode-notebook-cell:/c%3A/Users/offho/Code/LetsLearnPython/Basic/Lesson12%28%EC%83%81%EC%86%8D%EA%B3%BC%20%EC%97%B0%EC%82%B0%EC%9E%90%EC%A4%91%EB%B3%B5%29.ipynb#ch0000023?line=22'>23</a>\u001b[0m \u001b[39mprint\u001b[39m(a[\u001b[39m3\u001b[39;49m]\u001b[39m.\u001b[39;49m__data)\n",
      "\u001b[1;31mAttributeError\u001b[0m: 'sample' object has no attribute '__data'"
     ]
    }
   ],
   "source": [
    "class sample:\n",
    "    @property\n",
    "    def data(self):                         # 속성으로 data 정의 \n",
    "        print(\"속성이 정의됨\")\n",
    "        return self.__data\n",
    "    @data.setter                            \n",
    "    def data(self, value):                  # data 값을 넣을때 호출\n",
    "        print(\"속성이 변경되었습니다.\")\n",
    "        self.__data = value *5\n",
    "    @data.getter\n",
    "    def data(self):                         # data 값을 읽을때 호출\n",
    "        print('속성참조')\n",
    "        return self.__data\n",
    "\n",
    "a=[]\n",
    "for i in range(5):\n",
    "    a.append(sample())                      # sample 클래스르 생성해서 리스트 a에 추가\n",
    "    a[i].data=i                             \n",
    "    \n",
    "for i in range(5):                          \n",
    "    print(a[i].data)                       \n",
    "    \n",
    "print(a[3].__data)\n",
    "    "
   ]
  },
  {
   "cell_type": "markdown",
   "metadata": {},
   "source": [
    "### `__getitem__`, `__setitem__` 구현\n"
   ]
  },
  {
   "cell_type": "code",
   "execution_count": 59,
   "metadata": {},
   "outputs": [
    {
     "name": "stdout",
     "output_type": "stream",
     "text": [
      "초기화\n",
      "Get item 호출\n",
      "Set item 호출\n",
      "Get item 호출\n",
      "Set item 호출\n",
      "append\n"
     ]
    }
   ],
   "source": [
    "class Data(list):\n",
    "    def __init__(self,data):\n",
    "        super().__init__(data)\n",
    "        print(\"초기화\")\n",
    "    def __getitem__(self,key):\n",
    "        print(\"Get item 호출\")\n",
    "        return super().__getitem__(key)\n",
    "    def __setitem__(self, key, data):\n",
    "        super().__setitem__(key,data)\n",
    "        print(\"Set item 호출\")\n",
    "            \n",
    "l= Data([0,1,2,3,4,5,6,7])         # 초기화 \n",
    "x= l[5]                            # Get item 호출\n",
    "l[3]= 33                           # Set item 호출\n",
    "x=l[3:7]                           # Get item 호출\n",
    "l[0:4] = [55,66,77,88]             # Set item 호출\n",
    "\n",
    "print(\"append\")\n",
    "l.append(8)                         \n",
    "\n",
    "for i in range(len(l)):\n",
    "    print(l[i])             \n",
    "\n",
    "           "
   ]
  }
 ],
 "metadata": {
  "kernelspec": {
   "display_name": "Python 3.10.5 64-bit (windows store)",
   "language": "python",
   "name": "python3"
  },
  "language_info": {
   "codemirror_mode": {
    "name": "ipython",
    "version": 3
   },
   "file_extension": ".py",
   "mimetype": "text/x-python",
   "name": "python",
   "nbconvert_exporter": "python",
   "pygments_lexer": "ipython3",
   "version": "3.10.5"
  },
  "orig_nbformat": 4,
  "vscode": {
   "interpreter": {
    "hash": "6be026cc2f54c9bec22506d53e3e394c3402c3c44c1202f9383de7e3faf9cb28"
   }
  }
 },
 "nbformat": 4,
 "nbformat_minor": 2
}
