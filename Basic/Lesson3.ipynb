{
 "cells": [
  {
   "cell_type": "code",
   "execution_count": null,
   "metadata": {},
   "outputs": [],
   "source": [
    "import sys\n",
    "!{sys.executable} -m pip install ipywidgets\n",
    "\n"
   ]
  },
  {
   "cell_type": "code",
   "execution_count": null,
   "metadata": {},
   "outputs": [],
   "source": [
    "import ipywidgets as widgets\n",
    "from ipywidgets import interact, interactive, fixed, interact_manual\n",
    "import ipywidgets as widgets\n"
   ]
  },
  {
   "cell_type": "code",
   "execution_count": 16,
   "metadata": {},
   "outputs": [
    {
     "data": {
      "application/vnd.jupyter.widget-view+json": {
       "model_id": "8a2d95070cbc4e62a09067d07169f6ea",
       "version_major": 2,
       "version_minor": 0
      },
      "text/plain": [
       "interactive(children=(FloatSlider(value=2.5, description='k', max=5.0), Output()), _dom_classes=('widget-inter…"
      ]
     },
     "metadata": {},
     "output_type": "display_data"
    },
    {
     "data": {
      "text/plain": [
       "<function __main__.f(k)>"
      ]
     },
     "execution_count": 16,
     "metadata": {},
     "output_type": "execute_result"
    }
   ],
   "source": [
    "%matplotlib inline\n",
    "import matplotlib.pyplot as plt\n",
    "from ipywidgets import interact\n",
    "import numpy as np\n",
    "\n",
    "\n",
    "def f(k):\n",
    "    x = np.linspace(0, 10, num=1000)\n",
    "    y = np.sin(k*x)\n",
    "    plt.style.use('dark_background')\n",
    "    fig, ax = plt.subplots()\n",
    "    ax.set_facecolor(color='black')\n",
    "    ax.plot(x, y)\n",
    "    ax.grid()\n",
    "    ax.margins(0) # remove default margins (matplotlib verision 2+)..\n",
    "       \n",
    "    \n",
    "\n",
    "\n",
    "interact(f, k=(0.0,5.0,0.1) )\n"
   ]
  },
  {
   "cell_type": "code",
   "execution_count": 1,
   "metadata": {},
   "outputs": [
    {
     "data": {
      "application/vnd.jupyter.widget-view+json": {
       "model_id": "f8915b09a97b4c32ad7d09ddf42d2f67",
       "version_major": 2,
       "version_minor": 0
      },
      "text/plain": [
       "interactive(children=(IntSlider(value=24, description='k', max=49), Output()), _dom_classes=('widget-interact'…"
      ]
     },
     "metadata": {},
     "output_type": "display_data"
    }
   ],
   "source": [
    "%matplotlib inline\n",
    "import matplotlib.pyplot as plt\n",
    "from ipywidgets import interact\n",
    "import numpy as np\n",
    "\n",
    "x = np.linspace(0, 2*np.pi, num=5000)\n",
    "y, y1, y2, y3 = [], [], [], []\n",
    "\n",
    "param = 50\n",
    "\n",
    "for i in range(1,param+1):\n",
    "    y1.append([np.sin(i*j) for j in x])\n",
    "    y2.append([np.cos(i*j)+np.cos(j) for j in x])\n",
    "    y3.append([np.tan(i*j)+np.cos(j) for j in x])\n",
    "\n",
    "y = [y1, y2, y3]\n",
    "\n",
    "# 그래프를 생성\n",
    "@interact(k=(0,param-1))\n",
    "def f(k):\n",
    "    # 3개의 그래프를 배치할 테두리를 만든다 \n",
    "    fig,ax = plt.subplots(1,3,figsize=(17,4))\n",
    "\n",
    "    # 타이틀을 배열에 저장한다\n",
    "    title=['title1','title2','title3']\n",
    "\n",
    "    # 그래프간의 간격을 조정한다\n",
    "    plt.subplots_adjust(wspace=0.25, hspace=0.6)\n",
    "\n",
    "    for i in range(3):\n",
    "        ax[i].plot(x, y[i][k])\n",
    "        ax[i].set_title(title[i]) # 타이틀\n",
    "        ax[i].set_xlabel('x-axis label') # x축의 라벨\n",
    "        ax[i].set_ylabel('y-axis label') # y축의 라벨\n",
    "\n",
    "    plt.show()\n"
   ]
  },
  {
   "cell_type": "code",
   "execution_count": null,
   "metadata": {},
   "outputs": [],
   "source": [
    "%matplotlib inline\n",
    "import matplotlib.pyplot as plt\n",
    "from ipywidgets import interact\n",
    "import numpy as np\n",
    "\n",
    "x = np.linspace(0, 2*np.pi, num=5000)\n",
    "y1, y2 = [], []\n",
    "\n",
    "param = 50\n",
    "\n",
    "for i in range(1,param+1):\n",
    "    y1.append([np.sin(i*j) for j in x])\n",
    "    y2.append([np.cos(i*j)+np.cos(j) for j in x])\n",
    "\n",
    "@interact(k=(0,param-1))\n",
    "def f1(k):\n",
    "    plt.plot(x, y1[k])\n",
    "    plt.show()\n",
    "\n",
    "@interact(k=(0,param-1))\n",
    "def f2(k):\n",
    "    plt.plot(x, y2[k])\n",
    "    plt.show()\n"
   ]
  },
  {
   "cell_type": "code",
   "execution_count": 4,
   "metadata": {},
   "outputs": [
    {
     "ename": "FileNotFoundError",
     "evalue": "[Errno 2] No such file or directory: 'images/gaussian_with_grid.png'",
     "output_type": "error",
     "traceback": [
      "\u001b[1;31m---------------------------------------------------------------------------\u001b[0m",
      "\u001b[1;31mFileNotFoundError\u001b[0m                         Traceback (most recent call last)",
      "\u001b[1;32mc:\\Users\\offho\\Code\\LetsLearnPython\\Basic\\Lesson3.ipynb 셀 6\u001b[0m in \u001b[0;36m<cell line: 45>\u001b[1;34m()\u001b[0m\n\u001b[0;32m     <a href='vscode-notebook-cell:/c%3A/Users/offho/Code/LetsLearnPython/Basic/Lesson3.ipynb#ch0000005?line=41'>42</a>\u001b[0m \u001b[39m# Set size of captions in figures below\u001b[39;00m\n\u001b[0;32m     <a href='vscode-notebook-cell:/c%3A/Users/offho/Code/LetsLearnPython/Basic/Lesson3.ipynb#ch0000005?line=42'>43</a>\u001b[0m caption_size \u001b[39m=\u001b[39m \u001b[39m'\u001b[39m\u001b[39mh4\u001b[39m\u001b[39m'\u001b[39m\n\u001b[1;32m---> <a href='vscode-notebook-cell:/c%3A/Users/offho/Code/LetsLearnPython/Basic/Lesson3.ipynb#ch0000005?line=44'>45</a>\u001b[0m \u001b[39mwith\u001b[39;00m \u001b[39mopen\u001b[39;49m(\u001b[39m'\u001b[39;49m\u001b[39mimages/gaussian_with_grid.png\u001b[39;49m\u001b[39m'\u001b[39;49m, \u001b[39m'\u001b[39;49m\u001b[39mrb\u001b[39;49m\u001b[39m'\u001b[39;49m) \u001b[39mas\u001b[39;00m f:\n\u001b[0;32m     <a href='vscode-notebook-cell:/c%3A/Users/offho/Code/LetsLearnPython/Basic/Lesson3.ipynb#ch0000005?line=45'>46</a>\u001b[0m     im_600_300 \u001b[39m=\u001b[39m f\u001b[39m.\u001b[39mread()\n\u001b[0;32m     <a href='vscode-notebook-cell:/c%3A/Users/offho/Code/LetsLearnPython/Basic/Lesson3.ipynb#ch0000005?line=47'>48</a>\u001b[0m boxes \u001b[39m=\u001b[39m []\n",
      "\u001b[1;31mFileNotFoundError\u001b[0m: [Errno 2] No such file or directory: 'images/gaussian_with_grid.png'"
     ]
    }
   ],
   "source": [
    "from ipywidgets import Layout, Box, VBox, HBox, HTML, Image\n",
    "\n",
    "fit_options = ['contain', 'cover', 'fill', 'scale-down', 'none', None]\n",
    "\n",
    "hbox_layout = Layout()\n",
    "hbox_layout.width = '100%'\n",
    "hbox_layout.justify_content = 'space-around'\n",
    "\n",
    "green_box_layout = Layout()\n",
    "green_box_layout.width = '100px'\n",
    "green_box_layout.height = '100px'\n",
    "green_box_layout.border = '2px solid green'\n",
    "\n",
    "\n",
    "def make_box_for_grid(image_widget, fit):\n",
    "    \"\"\"\n",
    "    Make a VBox to hold caption/image for demonstrating\n",
    "    option_fit values.\n",
    "    \"\"\"\n",
    "    # Make the caption\n",
    "    if fit is not None:\n",
    "        fit_str = \"'{}'\".format(fit)\n",
    "    else:\n",
    "        fit_str = str(fit)\n",
    "\n",
    "    h = HTML(value='' + str(fit_str) + '')\n",
    "\n",
    "    # Make the green box with the image widget inside it\n",
    "    boxb = Box()\n",
    "    boxb.layout = green_box_layout\n",
    "    boxb.children = [image_widget]\n",
    "\n",
    "    # Compose into a vertical box\n",
    "    vb = VBox()\n",
    "    vb.layout.align_items = 'center'\n",
    "    vb.children = [h, boxb]\n",
    "    return vb\n",
    "\n",
    "# Use this margin to eliminate space between the image and the box\n",
    "image_margin = '0 0 0 0'\n",
    "\n",
    "# Set size of captions in figures below\n",
    "caption_size = 'h4'\n",
    "\n",
    "with open('images/gaussian_with_grid.png', 'rb') as f:\n",
    "    im_600_300 = f.read()\n",
    "\n",
    "boxes = []\n",
    "for fit in fit_options:\n",
    "    ib = Image(value=im_600_300)\n",
    "    ib.layout.object_fit = fit\n",
    "    ib.layout.margin = image_margin\n",
    "\n",
    "    boxes.append(make_box_for_grid(ib, fit))\n",
    "\n",
    "vb = VBox()\n",
    "h = HTML(value='<{size}>Examples of <code>object_fit</code> with large image</{size}>'.format(size=caption_size))\n",
    "vb.layout.align_items = 'center'\n",
    "hb = HBox()\n",
    "hb.layout = hbox_layout\n",
    "hb.children = boxes\n",
    "\n",
    "vb.children = [h, hb]\n",
    "vb"
   ]
  }
 ],
 "metadata": {
  "kernelspec": {
   "display_name": "Python 3.10.5 64-bit (windows store)",
   "language": "python",
   "name": "python3"
  },
  "language_info": {
   "codemirror_mode": {
    "name": "ipython",
    "version": 3
   },
   "file_extension": ".py",
   "mimetype": "text/x-python",
   "name": "python",
   "nbconvert_exporter": "python",
   "pygments_lexer": "ipython3",
   "version": "3.10.5"
  },
  "orig_nbformat": 4,
  "vscode": {
   "interpreter": {
    "hash": "6be026cc2f54c9bec22506d53e3e394c3402c3c44c1202f9383de7e3faf9cb28"
   }
  }
 },
 "nbformat": 4,
 "nbformat_minor": 2
}
