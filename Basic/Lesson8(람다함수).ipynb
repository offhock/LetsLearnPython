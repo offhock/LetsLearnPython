{
 "cells": [
  {
   "cell_type": "markdown",
   "metadata": {},
   "source": [
    "## lambda 함수 (익명함수)\n",
    "\n",
    "* 이름없이 인수와 수식을 통해 값을 반환하는 한 줄 함수\n",
    " \n",
    "``` python\n",
    "lambda 인수들:반환할 식\n",
    "```"
   ]
  },
  {
   "cell_type": "code",
   "execution_count": 1,
   "metadata": {},
   "outputs": [
    {
     "data": {
      "text/plain": [
       "50"
      ]
     },
     "execution_count": 1,
     "metadata": {},
     "output_type": "execute_result"
    }
   ],
   "source": [
    "k= lambda x,y : x*y              # 결과값을 하나의 값으로 반환\n",
    "k(10,5)"
   ]
  },
  {
   "cell_type": "code",
   "execution_count": 2,
   "metadata": {},
   "outputs": [
    {
     "data": {
      "text/plain": [
       "(10, 2, 24)"
      ]
     },
     "execution_count": 2,
     "metadata": {},
     "output_type": "execute_result"
    }
   ],
   "source": [
    "p= lambda x,y : (x+y, x-y, x*y)    # 결과값을 튜플로 묶어서 반환\n",
    "p(6,4)"
   ]
  },
  {
   "cell_type": "code",
   "execution_count": 3,
   "metadata": {},
   "outputs": [
    {
     "data": {
      "text/plain": [
       "315"
      ]
     },
     "execution_count": 3,
     "metadata": {},
     "output_type": "execute_result"
    }
   ],
   "source": [
    "mul= lambda x,y,z :x*y*z        \n",
    "mul(5,7,9)\n"
   ]
  },
  {
   "cell_type": "code",
   "execution_count": 4,
   "metadata": {},
   "outputs": [
    {
     "data": {
      "text/plain": [
       "315"
      ]
     },
     "execution_count": 4,
     "metadata": {},
     "output_type": "execute_result"
    }
   ],
   "source": [
    "(lambda x,y,z: x*y*z)(5,7,9)        # 함수명에 할당하지 않고 함수를 바로 실행"
   ]
  },
  {
   "cell_type": "markdown",
   "metadata": {},
   "source": [
    "* 리스트 생성 예제\n",
    "  * 리스트는 앞에서 배운 것과 같이 여러가 형태를 한번에 담을 수 있는 것으로, 포인터 리스트라고 기억하면 좋다.\n",
    "  * 그렇기 때문에, 함수 포인터를 저장할 수 있어서, `lambda`함수를 저장할 수 있는 것이다.\n",
    "\n",
    "> 아래의 예는 하나의 리스트에 람다 함수를 포함한 문자열, 숫자등을 저장한 리스트를 보여 준다  "
   ]
  },
  {
   "cell_type": "code",
   "execution_count": 5,
   "metadata": {},
   "outputs": [
    {
     "data": {
      "text/plain": [
       "'파이썬'"
      ]
     },
     "execution_count": 5,
     "metadata": {},
     "output_type": "execute_result"
    }
   ],
   "source": [
    "m = [\"파이썬\", lambda x: x*x, 100]\n",
    "m[0]\n"
   ]
  },
  {
   "cell_type": "code",
   "execution_count": 6,
   "metadata": {},
   "outputs": [
    {
     "data": {
      "text/plain": [
       "<function __main__.<lambda>(x)>"
      ]
     },
     "execution_count": 6,
     "metadata": {},
     "output_type": "execute_result"
    }
   ],
   "source": [
    "m[1]        # 람다 함수 "
   ]
  },
  {
   "cell_type": "code",
   "execution_count": 7,
   "metadata": {},
   "outputs": [
    {
     "data": {
      "text/plain": [
       "100"
      ]
     },
     "execution_count": 7,
     "metadata": {},
     "output_type": "execute_result"
    }
   ],
   "source": [
    "m[2]"
   ]
  },
  {
   "cell_type": "code",
   "execution_count": 8,
   "metadata": {},
   "outputs": [
    {
     "data": {
      "text/plain": [
       "25"
      ]
     },
     "execution_count": 8,
     "metadata": {},
     "output_type": "execute_result"
    }
   ],
   "source": [
    "m[1](5)     #  m[1]의 합수를 호출하면서 인수를 5를 넘겨 줬을때의 결과값,  5*5= 25 출력"
   ]
  },
  {
   "cell_type": "markdown",
   "metadata": {},
   "source": [
    "## 재귀호출 함수\n",
    "\n",
    "* 자기 자신을 호출하는 함수\n",
    "  \n",
    "  ``` python\n",
    "    def func():\n",
    "        k=func();\n",
    "\n",
    "  ```"
   ]
  },
  {
   "cell_type": "code",
   "execution_count": 2,
   "metadata": {},
   "outputs": [
    {
     "name": "stdout",
     "output_type": "stream",
     "text": [
      "479001600\n",
      "479001600\n",
      "1\n",
      "1\n",
      "1\n",
      "1\n",
      "2\n",
      "6\n",
      "24\n",
      "종료\n"
     ]
    }
   ],
   "source": [
    "# factorial 구하기\n",
    "# 5!  ----> 5 * 4 *3 * 2 * 1\n",
    "# 5! = 5 * 4!  = 5 * 4 * 3! = ... \n",
    "\n",
    "def factorial(x):\n",
    "    if x ==0:\n",
    "        return 1\n",
    "    else:\n",
    "        return x * factorial (x -1)\n",
    "    \n",
    "    \n",
    "while True:\n",
    "    n= input (\"\\숫자를 입력하세요\")\n",
    "    if n.isnumeric():\n",
    "        res= factorial(int(n))\n",
    "        print(res)\n",
    "    else:\n",
    "        print(\"종료\")\n",
    "        break"
   ]
  },
  {
   "cell_type": "code",
   "execution_count": null,
   "metadata": {},
   "outputs": [
    {
     "name": "stdout",
     "output_type": "stream",
     "text": [
      "1 1 2 1 1 1 1 1 1 2 3 5 1 1 2 "
     ]
    },
    {
     "ename": "",
     "evalue": "",
     "output_type": "error",
     "traceback": [
      "\u001b[1;31mCanceled future for execute_request message before replies were done"
     ]
    },
    {
     "ename": "",
     "evalue": "",
     "output_type": "error",
     "traceback": [
      "\u001b[1;31m현재 셀 또는 이전 셀에서 코드를 실행하는 동안 Kernel이 충돌했습니다. 셀의 코드를 검토하여 오류의 가능한 원인을 식별하세요. 자세한 내용을 보려면 <a href='https://aka.ms/vscodeJupyterKernelCrash'> 여기 </a> 를 클릭하세요. 자세한 내용은 Jupyter <a href='command:jupyter.viewOutput'>로그</a>를 참조하세요."
     ]
    }
   ],
   "source": [
    "# Fibonacci sequence \n",
    "# 1,1,2,3,5,8,13,21, ....\n",
    "# 처음 두항은 1,  세 번째 항부터는 앞 두항의 합\n",
    "#\n",
    "# f(n) = 1                        : (n <=2)\n",
    "# f(n) = f(n-2) + f(n-1)          : (n > 2)\n",
    "#\n",
    "\n",
    "def fibonacci(n):\n",
    "    if n == 1 or n==2:\n",
    "        return 1\n",
    "    else:\n",
    "        return fibonacci(n-2) + fibonacci(n-1)\n",
    "\n",
    "f=[]\n",
    "while True:\n",
    "    k= input (\"\\n숫자를 입력하세요\")\n",
    "    if k.isnumeric():\n",
    "        f.clear();\n",
    "        k=int(k)\n",
    "        for i in range(1, k+1):\n",
    "            f.append(fibonacci(i))\n",
    "        for i in f:\n",
    "            print(i, end=' ')\n",
    "        print(\"\\n\")\n",
    "    else:\n",
    "        print (\"종료\\n\")    \n",
    "        break\n",
    "        "
   ]
  },
  {
   "cell_type": "markdown",
   "metadata": {},
   "source": [
    "## 고차 함수\n",
    "\n",
    "* 인자로 다름 함수를 전달 받거나 함수를 반환하는 함수\n",
    "\n",
    "```\n",
    "    filter (함수(a), 리스트(b)) # 내장함수\n",
    "```\n",
    "리스트(b)d에 들어 있는 값을 하나씩 함수 (a)에 전달하여 True결과 값만 모아서 리스트 형태로 반환한다."
   ]
  },
  {
   "cell_type": "markdown",
   "metadata": {},
   "source": []
  },
  {
   "cell_type": "code",
   "execution_count": 3,
   "metadata": {},
   "outputs": [
    {
     "name": "stdout",
     "output_type": "stream",
     "text": [
      "[2, 4, 10, 8, 20, 44, 66]\n"
     ]
    }
   ],
   "source": [
    "# 일반함수를 이용한 filter 내장함수 사용\n",
    "\n",
    "def func(x):    # 짝수면 True 반환\n",
    "    if x%2 == 0:\n",
    "        return True\n",
    "if __name__ == '__main__':\n",
    "    a= [1,2,3,4,5,10,8,20,33,44,55,66]\n",
    "    lst= list(filter(func,a))           # 내장함수 filter에 job 함수와 item 리스트를 전달\n",
    "    print(lst)"
   ]
  },
  {
   "cell_type": "code",
   "execution_count": 5,
   "metadata": {},
   "outputs": [
    {
     "name": "stdout",
     "output_type": "stream",
     "text": [
      "[2, 4, 10, 8, 20, 44, 66]\n"
     ]
    }
   ],
   "source": [
    "# 람다 함수를 이용한 filter 내장함수 사용법\n",
    "\n",
    "a= [1,2,3,4,5,10,8,20,33,44,55,66]\n",
    "lst= list(filter(lambda a: a%2==0 , a))\n",
    "print(lst)"
   ]
  },
  {
   "cell_type": "markdown",
   "metadata": {},
   "source": [
    ">람다함수를 사용하면 코드를 간결하게 작성할 수 있다."
   ]
  },
  {
   "cell_type": "markdown",
   "metadata": {},
   "source": [
    "* map 함수 \n",
    "\n",
    "```\n",
    "map (함수(a), 시퀀스(b))   # 내장함수\n",
    "```\n",
    "\n",
    "시퀀스(b)에 들어 있는 값을 하나씩 함수(a)에 전달하여 결과값을 리스트 형태로 반환"
   ]
  },
  {
   "cell_type": "code",
   "execution_count": 9,
   "metadata": {},
   "outputs": [
    {
     "name": "stdout",
     "output_type": "stream",
     "text": [
      "[1, 4, 9, 16, 25, 100, 64, 400, 1089, 1936, 3025, 4356]\n"
     ]
    }
   ],
   "source": [
    "# 일반함수를 이용한 map 내장함수 사용\n",
    "def func(x):\n",
    "    return x*x\n",
    "\n",
    "a= [1,2,3,4,5,10,8,20,33,44,55,66]\n",
    "lst= list(map(func,a))              # 내장함수 map을 이용하여 jap 함수와 item 리스트를 넘김\n",
    "print(lst)"
   ]
  },
  {
   "cell_type": "code",
   "execution_count": 10,
   "metadata": {},
   "outputs": [
    {
     "name": "stdout",
     "output_type": "stream",
     "text": [
      "[1, 4, 9, 16, 25, 100, 64, 400, 1089, 1936, 3025, 4356]\n"
     ]
    }
   ],
   "source": [
    "# 람다 함수를 이용한 map 내장함수 사용\n",
    "\n",
    "a= [1,2,3,4,5,10,8,20,33,44,55,66]\n",
    "print(list(map(lambda x: x*x,a)))"
   ]
  },
  {
   "cell_type": "markdown",
   "metadata": {},
   "source": [
    "## 사용자 고차함수 작성\n",
    "\n",
    "**응용 문제**\n",
    "\n",
    "각각 제곰, 세제곱, 네제곰을 구하는 함수가 정의되어 있다.  \n",
    "이 함수들과 리스트를 넘기면 목적한 결과를 되돌려주는 함수를 만들어라.\n",
    "\n",
    "``` python\n",
    "def squre(x):\n",
    "    return x*x\n",
    "def cube(x):\n",
    "    retuen x*x*x\n",
    "def qurd(x):\n",
    "    return x*x*x*x\n",
    "```\n"
   ]
  },
  {
   "cell_type": "code",
   "execution_count": 15,
   "metadata": {},
   "outputs": [
    {
     "name": "stdout",
     "output_type": "stream",
     "text": [
      "[1, 2, 3, 4, 5] \n",
      " [1, 4, 9, 16, 25]\n"
     ]
    }
   ],
   "source": [
    "def square(x):\n",
    "    return x*x\n",
    "def cube(x):\n",
    "    return x*x*x\n",
    "def qurd(x):\n",
    "    return x*x*x*x\n",
    "\n",
    "def agency(func, arg_list):\n",
    "    result= []\n",
    "    for i in arg_list:\n",
    "        result.append(func(i))\n",
    "    return result\n",
    "\n",
    "base= [1,2,3,4,5]\n",
    "a= agency(square, base)\n",
    "print(base,\"\\n\", a)"
   ]
  }
 ],
 "metadata": {
  "kernelspec": {
   "display_name": "Python 3.10.5 64-bit (windows store)",
   "language": "python",
   "name": "python3"
  },
  "language_info": {
   "codemirror_mode": {
    "name": "ipython",
    "version": 3
   },
   "file_extension": ".py",
   "mimetype": "text/x-python",
   "name": "python",
   "nbconvert_exporter": "python",
   "pygments_lexer": "ipython3",
   "version": "3.10.5"
  },
  "orig_nbformat": 4,
  "vscode": {
   "interpreter": {
    "hash": "6be026cc2f54c9bec22506d53e3e394c3402c3c44c1202f9383de7e3faf9cb28"
   }
  }
 },
 "nbformat": 4,
 "nbformat_minor": 2
}
