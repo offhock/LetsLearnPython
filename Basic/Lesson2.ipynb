{
 "cells": [
  {
   "cell_type": "markdown",
   "metadata": {},
   "source": [
    "# 연산문"
   ]
  },
  {
   "cell_type": "markdown",
   "metadata": {},
   "source": [
    "## 파이썬의 기본 자료형\n",
    "\n",
    "|구분|자료형(type)|내용|예|\n",
    "|---|---|---|---|\n",
    "|논리형|bool|참 또는 거짓|True, False| \n",
    "|수치형|int<br>float<br>complex|정수<br>실수<br>복소수|123<br>20.33<br>10+j2|\n",
    "|문자열|str<br>byte|유니코드 문자열<br>1바이트문자열|\"한국\",'Korea',\"\"\"한국\"\"\", '''Korea'''<br>b'Korea'|"
   ]
  },
  {
   "cell_type": "markdown",
   "metadata": {},
   "source": [
    "## 수치연산\n",
    "* 파이썬 수치형 데이터는 :int, float, complex 로 각각 정수 , 실수, 복소수를 나타낸다.   \n",
    "\n",
    "* 수치 연산자\n",
    "\n",
    "|연산자|설명|예|\n",
    "|-------|---------|---------|\n",
    "|** |지수연산 |>>> 2**3   <br>8|\n",
    "|*  |곱하기   |>>> 2*9    <br>18|\n",
    "|/  |나누기   |>>> 3/4    <br>0.75|\n",
    "|// |몫 구하기|>>> 9//2   <br>4|\n",
    "|%  |나머지 구하기|>>> 9%4 <br>1|\n",
    "|+  |더하기   |>>> 1+2 <br>3|\n",
    "|-  |빼기    | >>> 1-2 <br>-1|"
   ]
  },
  {
   "cell_type": "markdown",
   "metadata": {},
   "source": [
    "> 지수연산"
   ]
  },
  {
   "cell_type": "code",
   "execution_count": 1,
   "metadata": {},
   "outputs": [
    {
     "data": {
      "text/plain": [
       "158404"
      ]
     },
     "execution_count": 1,
     "metadata": {},
     "output_type": "execute_result"
    }
   ],
   "source": [
    "398 ** 2"
   ]
  },
  {
   "cell_type": "markdown",
   "metadata": {},
   "source": [
    "실수 + 정수 = 실수"
   ]
  },
  {
   "cell_type": "code",
   "execution_count": 4,
   "metadata": {},
   "outputs": [
    {
     "name": "stdout",
     "output_type": "stream",
     "text": [
      "62.6\n"
     ]
    },
    {
     "data": {
      "text/plain": [
       "float"
      ]
     },
     "execution_count": 4,
     "metadata": {},
     "output_type": "execute_result"
    }
   ],
   "source": [
    "a= 55.6; \n",
    "b=7; \n",
    "c=a+b; \n",
    "print(c); type(c)"
   ]
  },
  {
   "cell_type": "markdown",
   "metadata": {},
   "source": [
    "int(), abs() 함수 사용"
   ]
  },
  {
   "cell_type": "code",
   "execution_count": 5,
   "metadata": {},
   "outputs": [
    {
     "data": {
      "text/plain": [
       "(62, -838, 838)"
      ]
     },
     "execution_count": 5,
     "metadata": {},
     "output_type": "execute_result"
    }
   ],
   "source": [
    "s= int(c); \n",
    "k= s -900\n",
    "k2 = abs(k)\n",
    "\n",
    "s, k ,k2"
   ]
  },
  {
   "cell_type": "markdown",
   "metadata": {},
   "source": [
    "max(), min(), sum() 함수 사용"
   ]
  },
  {
   "cell_type": "code",
   "execution_count": 8,
   "metadata": {},
   "outputs": [
    {
     "name": "stdout",
     "output_type": "stream",
     "text": [
      "100 -20 184\n"
     ]
    }
   ],
   "source": [
    "p = ( 10, 100, -20, 50, 44)\n",
    "a= max(p)\n",
    "b= min(p)\n",
    "c= sum(p)\n",
    "print(a, b, c)"
   ]
  },
  {
   "cell_type": "markdown",
   "metadata": {},
   "source": [
    "## 문자연산\n",
    "* 작은 따옴표나, 큰 따옴표로 묶어서 표현한다."
   ]
  },
  {
   "cell_type": "code",
   "execution_count": 9,
   "metadata": {},
   "outputs": [
    {
     "name": "stdout",
     "output_type": "stream",
     "text": [
      "파이썬 좋아 Korea 파이썬 파이팅     문자열 방식\n"
     ]
    }
   ],
   "source": [
    "a= \"파이썬 좋아\"\n",
    "b= 'Korea'\n",
    "c= \"파이썬 파이팅 \\\n",
    "    문자열 방식\"\n",
    "print (a,b,c)"
   ]
  },
  {
   "cell_type": "markdown",
   "metadata": {},
   "source": [
    "* 따옴표 자체를 문자로 다룰때\n",
    "  1. 작은 따옴표 표현을 위해 큰 따옴표로 묶어 준다.\n",
    "  2. 파이썬 제어 문자 `\\`를 사용한다."
   ]
  },
  {
   "cell_type": "code",
   "execution_count": 12,
   "metadata": {},
   "outputs": [
    {
     "name": "stdout",
     "output_type": "stream",
     "text": [
      "I'm a boy\n",
      " You don't know\n",
      " I'm a boy\n",
      " Korea\tChana\n",
      "\n"
     ]
    }
   ],
   "source": [
    "p1= \"I'm a boy\\n\"\n",
    "p2= \"You don't know\\n\"\n",
    "p3= 'I\\'m a boy\\n'\n",
    "p4= \"Korea\\tChana\\n\"\n",
    "print(p1,p2,p3,p4)"
   ]
  },
  {
   "cell_type": "markdown",
   "metadata": {},
   "source": [
    "* 제어 문자\n",
    "\n",
    "|문자|표현|문자|표현|\n",
    "|---|---|---|---|\n",
    "|'  | `\\`'|줄바꾸기| `\\`n|\n",
    "|\"  | `\\`\"|탭| `\\`t|\n",
    "|`\\`  | `\\\\`|ESC키| `\\`e|\n",
    "|연속줄| `\\`| 8진수코드| `\\`0값|\n",
    "|백스페이스| `\\`b| 16진수코드| `\\`x값|"
   ]
  },
  {
   "cell_type": "markdown",
   "metadata": {},
   "source": [
    "* 문자열 결합연산\n",
    "  * 덧셈 기호 사용 `+`\n",
    "  * 곱셈 기호 사용 `*`"
   ]
  },
  {
   "cell_type": "code",
   "execution_count": 13,
   "metadata": {},
   "outputs": [
    {
     "data": {
      "text/plain": [
       "'파이썬 좋아Korea'"
      ]
     },
     "execution_count": 13,
     "metadata": {},
     "output_type": "execute_result"
    }
   ],
   "source": [
    "c= a+ b\n",
    "c"
   ]
  },
  {
   "cell_type": "code",
   "execution_count": 14,
   "metadata": {},
   "outputs": [
    {
     "data": {
      "text/plain": [
       "'------------------------------'"
      ]
     },
     "execution_count": 14,
     "metadata": {},
     "output_type": "execute_result"
    }
   ],
   "source": [
    "d= \"---\"*10\n",
    "d"
   ]
  },
  {
   "cell_type": "markdown",
   "metadata": {},
   "source": [
    "* 인덱스를 사용한 접근 (indexing)\n",
    "  * 문자열은 일종의 순서형 데이터로 튜플형(tuple)과 유사\n",
    "  * index를 이용한 접근 가능\n",
    "\n",
    "  ```\n",
    "  a= \"우리나라 대한민국\"\n",
    "  ```\n",
    "\n",
    "  a 문자열에 저장된 형태\n",
    "\n",
    "|저장된 내용|우|리|나|라||대|한|민|국|\n",
    "|---|---|---|---|---|---|---|---|---|---|\n",
    "|index + |0|1|2|3|4|5|6|7|8|\n",
    "|index - |-9|-8|-7|-6|-5|-4|-3|-2|-1|"
   ]
  },
  {
   "cell_type": "code",
   "execution_count": 15,
   "metadata": {},
   "outputs": [
    {
     "data": {
      "text/plain": [
       "'민'"
      ]
     },
     "execution_count": 15,
     "metadata": {},
     "output_type": "execute_result"
    }
   ],
   "source": [
    "a=\"우리나라 대한민국\"\n",
    "a[-2]"
   ]
  },
  {
   "cell_type": "code",
   "execution_count": 16,
   "metadata": {},
   "outputs": [
    {
     "data": {
      "text/plain": [
       "'우'"
      ]
     },
     "execution_count": 16,
     "metadata": {},
     "output_type": "execute_result"
    }
   ],
   "source": [
    "a[0]"
   ]
  },
  {
   "cell_type": "code",
   "execution_count": 17,
   "metadata": {},
   "outputs": [
    {
     "ename": "IndexError",
     "evalue": "string index out of range",
     "output_type": "error",
     "traceback": [
      "\u001b[1;31m---------------------------------------------------------------------------\u001b[0m",
      "\u001b[1;31mIndexError\u001b[0m                                Traceback (most recent call last)",
      "\u001b[1;32mc:\\Users\\offho\\Code\\LetsLearnPython\\Basic\\Lesson2.ipynb Cell 23'\u001b[0m in \u001b[0;36m<cell line: 1>\u001b[1;34m()\u001b[0m\n\u001b[1;32m----> <a href='vscode-notebook-cell:/c%3A/Users/offho/Code/LetsLearnPython/Basic/Lesson2.ipynb#ch0000024?line=0'>1</a>\u001b[0m a[\u001b[39m9\u001b[39;49m]\n",
      "\u001b[1;31mIndexError\u001b[0m: string index out of range"
     ]
    }
   ],
   "source": [
    "a[9]"
   ]
  },
  {
   "cell_type": "markdown",
   "metadata": {},
   "source": [
    "* 문자 슬라이싱(slicing)\n",
    "  \n",
    "  [시작:끝 직전:간격]"
   ]
  },
  {
   "cell_type": "code",
   "execution_count": 18,
   "metadata": {},
   "outputs": [
    {
     "data": {
      "text/plain": [
       "'리나라 대'"
      ]
     },
     "execution_count": 18,
     "metadata": {},
     "output_type": "execute_result"
    }
   ],
   "source": [
    "a[1:6]"
   ]
  },
  {
   "cell_type": "code",
   "execution_count": 19,
   "metadata": {},
   "outputs": [
    {
     "data": {
      "text/plain": [
       "'우리나라 대한'"
      ]
     },
     "execution_count": 19,
     "metadata": {},
     "output_type": "execute_result"
    }
   ],
   "source": [
    "a[0:7]"
   ]
  },
  {
   "cell_type": "code",
   "execution_count": 20,
   "metadata": {},
   "outputs": [
    {
     "data": {
      "text/plain": [
       "'우리나'"
      ]
     },
     "execution_count": 20,
     "metadata": {},
     "output_type": "execute_result"
    }
   ],
   "source": [
    "a[-9:-6]"
   ]
  },
  {
   "cell_type": "code",
   "execution_count": 21,
   "metadata": {},
   "outputs": [
    {
     "data": {
      "text/plain": [
       "''"
      ]
     },
     "execution_count": 21,
     "metadata": {},
     "output_type": "execute_result"
    }
   ],
   "source": [
    "a[-3:-9]      # 시작이 끝이 교차하는 곳이 없다"
   ]
  },
  {
   "cell_type": "code",
   "execution_count": 22,
   "metadata": {},
   "outputs": [
    {
     "data": {
      "text/plain": [
       "'한대 라나리'"
      ]
     },
     "execution_count": 22,
     "metadata": {},
     "output_type": "execute_result"
    }
   ],
   "source": [
    "a[-3:-9:-1]     # -1 방향으로 문자열 취함"
   ]
  },
  {
   "cell_type": "code",
   "execution_count": 28,
   "metadata": {},
   "outputs": [
    {
     "data": {
      "text/plain": [
       "'우리나라 대한민국'"
      ]
     },
     "execution_count": 28,
     "metadata": {},
     "output_type": "execute_result"
    }
   ],
   "source": [
    "a[:]        # 슬라이싱 시작과 끝 생략"
   ]
  },
  {
   "cell_type": "code",
   "execution_count": 29,
   "metadata": {},
   "outputs": [
    {
     "data": {
      "text/plain": [
       "'우리나라 대'"
      ]
     },
     "execution_count": 29,
     "metadata": {},
     "output_type": "execute_result"
    }
   ],
   "source": [
    "a[:6]       # 시작지점 생략"
   ]
  },
  {
   "cell_type": "code",
   "execution_count": 27,
   "metadata": {},
   "outputs": [
    {
     "data": {
      "text/plain": [
       "'우라한'"
      ]
     },
     "execution_count": 27,
     "metadata": {},
     "output_type": "execute_result"
    }
   ],
   "source": [
    "a[::3]      # 3 인덱스씩 건너뛰며 취한다."
   ]
  },
  {
   "cell_type": "markdown",
   "metadata": {},
   "source": [
    "* 부분문자열을 수정할 수는 없다."
   ]
  },
  {
   "cell_type": "code",
   "execution_count": 30,
   "metadata": {},
   "outputs": [
    {
     "ename": "TypeError",
     "evalue": "'str' object does not support item assignment",
     "output_type": "error",
     "traceback": [
      "\u001b[1;31m---------------------------------------------------------------------------\u001b[0m",
      "\u001b[1;31mTypeError\u001b[0m                                 Traceback (most recent call last)",
      "\u001b[1;32mc:\\Users\\offho\\Code\\LetsLearnPython\\Basic\\Lesson2.ipynb Cell 34'\u001b[0m in \u001b[0;36m<cell line: 2>\u001b[1;34m()\u001b[0m\n\u001b[0;32m      <a href='vscode-notebook-cell:/c%3A/Users/offho/Code/LetsLearnPython/Basic/Lesson2.ipynb#ch0000035?line=0'>1</a>\u001b[0m a\u001b[39m=\u001b[39m \u001b[39m'\u001b[39m\u001b[39m우리나라 대한민국\u001b[39m\u001b[39m'\u001b[39m\n\u001b[1;32m----> <a href='vscode-notebook-cell:/c%3A/Users/offho/Code/LetsLearnPython/Basic/Lesson2.ipynb#ch0000035?line=1'>2</a>\u001b[0m a[\u001b[39m0\u001b[39m]\u001b[39m=\u001b[39m \u001b[39m'\u001b[39m\u001b[39m사\u001b[39m\u001b[39m'\u001b[39m\n",
      "\u001b[1;31mTypeError\u001b[0m: 'str' object does not support item assignment"
     ]
    }
   ],
   "source": [
    "a= '우리나라 대한민국'\n",
    "a[0]= '사'"
   ]
  },
  {
   "cell_type": "code",
   "execution_count": 31,
   "metadata": {},
   "outputs": [
    {
     "data": {
      "text/plain": [
       "'예쁜아름다운 '"
      ]
     },
     "execution_count": 31,
     "metadata": {},
     "output_type": "execute_result"
    }
   ],
   "source": [
    "a= '아름다운 우리강상'\n",
    "a= '예쁜' + a[:5]\n",
    "a"
   ]
  },
  {
   "cell_type": "markdown",
   "metadata": {},
   "source": [
    "* for 문을 이용한 순환 문자열 출력"
   ]
  },
  {
   "cell_type": "code",
   "execution_count": 32,
   "metadata": {},
   "outputs": [
    {
     "name": "stdout",
     "output_type": "stream",
     "text": [
      "아\n",
      "름\n",
      "다\n",
      "운\n",
      " \n",
      "우\n",
      "리\n",
      "강\n",
      "산\n"
     ]
    }
   ],
   "source": [
    "my_string= '아름다운 우리강산'\n",
    "for ch in my_string:\n",
    "    print(ch)"
   ]
  },
  {
   "cell_type": "markdown",
   "metadata": {},
   "source": [
    "* for문을 이용한 가로로 문자열 출력하기  `end`, `sep`\n",
    " \n",
    "\n",
    "    ```\n",
    "    print(ch, end='')\n",
    "    print(20,30,40, sep= ' :: ')\n",
    "    ```"
   ]
  },
  {
   "cell_type": "code",
   "execution_count": 33,
   "metadata": {},
   "outputs": [
    {
     "name": "stdout",
     "output_type": "stream",
     "text": [
      "아름다운 우리강산"
     ]
    }
   ],
   "source": [
    "my_string= '아름다운 우리강산'\n",
    "for ch in my_string:\n",
    "    print(ch, end='')"
   ]
  },
  {
   "cell_type": "markdown",
   "metadata": {},
   "source": [
    "* 구분자 사용\n",
    "  \n",
    "    ```  \n",
    "    print(20,30,40, sep= ' :: ')\n",
    "    ```"
   ]
  },
  {
   "cell_type": "code",
   "execution_count": 34,
   "metadata": {},
   "outputs": [
    {
     "name": "stdout",
     "output_type": "stream",
     "text": [
      "20 :: 30 :: 40\n"
     ]
    }
   ],
   "source": [
    "print(20,30,40, sep= ' :: ')"
   ]
  },
  {
   "cell_type": "markdown",
   "metadata": {},
   "source": [
    "* 문자열 길이 확인 : len() 함수"
   ]
  },
  {
   "cell_type": "code",
   "execution_count": 35,
   "metadata": {},
   "outputs": [
    {
     "data": {
      "text/plain": [
       "26"
      ]
     },
     "execution_count": 35,
     "metadata": {},
     "output_type": "execute_result"
    }
   ],
   "source": [
    "apb = 'ABCDEFGHIJKLMNOPQRSTUVWXYZ'\n",
    "length = len(apb)\n",
    "length"
   ]
  },
  {
   "cell_type": "markdown",
   "metadata": {},
   "source": [
    "* 부분문자열 검사 : in 연산자"
   ]
  },
  {
   "cell_type": "code",
   "execution_count": 36,
   "metadata": {},
   "outputs": [
    {
     "data": {
      "text/plain": [
       "False"
      ]
     },
     "execution_count": 36,
     "metadata": {},
     "output_type": "execute_result"
    }
   ],
   "source": [
    "apb = 'ABCDEFGHIJKLMNOPQRSTUVWXYZ'\n",
    "'abc' in apb"
   ]
  },
  {
   "cell_type": "code",
   "execution_count": 37,
   "metadata": {},
   "outputs": [
    {
     "data": {
      "text/plain": [
       "True"
      ]
     },
     "execution_count": 37,
     "metadata": {},
     "output_type": "execute_result"
    }
   ],
   "source": [
    "apb = 'ABCDEFGHIJKLMNOPQRSTUVWXYZ'\n",
    "'ABC' in apb"
   ]
  },
  {
   "cell_type": "markdown",
   "metadata": {},
   "source": [
    "* 부분문자열 위치 찾기 : find() 메서드\n",
    "  \n",
    "  str.find(문자열. 시작, 끝)"
   ]
  },
  {
   "cell_type": "code",
   "execution_count": 40,
   "metadata": {},
   "outputs": [
    {
     "data": {
      "text/plain": [
       "-1"
      ]
     },
     "execution_count": 40,
     "metadata": {},
     "output_type": "execute_result"
    }
   ],
   "source": [
    "p= apb.find('jkl')          # 목 찾으면 정수값 -1 반환, -1은 False를 의미한다.\n",
    "p                           \n"
   ]
  },
  {
   "cell_type": "code",
   "execution_count": 39,
   "metadata": {},
   "outputs": [
    {
     "data": {
      "text/plain": [
       "9"
      ]
     },
     "execution_count": 39,
     "metadata": {},
     "output_type": "execute_result"
    }
   ],
   "source": [
    "p=apb.find('JKL')           # 찾은 경우 찾은 위치 반환\n",
    "p   "
   ]
  },
  {
   "cell_type": "markdown",
   "metadata": {},
   "source": [
    "* 부분문자열 개수 체크 : count() 메서드"
   ]
  },
  {
   "cell_type": "code",
   "execution_count": 41,
   "metadata": {},
   "outputs": [
    {
     "data": {
      "text/plain": [
       "4"
      ]
     },
     "execution_count": 41,
     "metadata": {},
     "output_type": "execute_result"
    }
   ],
   "source": [
    "'우리나라 우리 우리나라 우리'.count(\"우리\")\n"
   ]
  },
  {
   "cell_type": "code",
   "execution_count": 42,
   "metadata": {},
   "outputs": [
    {
     "data": {
      "text/plain": [
       "True"
      ]
     },
     "execution_count": 42,
     "metadata": {},
     "output_type": "execute_result"
    }
   ],
   "source": [
    "'방네' in '동네방네'        # \"동네방네\"에 \"방네\"라는 문자열이 있는가?"
   ]
  },
  {
   "cell_type": "markdown",
   "metadata": {},
   "source": [
    "* 대소문자 전환 : lower(), upper(), swapcase() 메서드\n",
    "\n",
    "        원본데이터는 바뀌지 않는다."
   ]
  },
  {
   "cell_type": "code",
   "execution_count": 48,
   "metadata": {},
   "outputs": [
    {
     "data": {
      "text/plain": [
       "('abcdefghijklmnopqrstuvwxyz', 'ABCDEFGHIJKLMNOPQRSTUVWXYZ')"
      ]
     },
     "execution_count": 48,
     "metadata": {},
     "output_type": "execute_result"
    }
   ],
   "source": [
    "apb = 'ABCDEFGHIJKLMNOPQRSTUVWXYZ'\n",
    "apb.lower(), apb        # 원본데이터는 바뀌지 않는다."
   ]
  },
  {
   "cell_type": "code",
   "execution_count": 44,
   "metadata": {},
   "outputs": [
    {
     "data": {
      "text/plain": [
       "'abcdefghijklmnopqrstuvwxyz'"
      ]
     },
     "execution_count": 44,
     "metadata": {},
     "output_type": "execute_result"
    }
   ],
   "source": [
    "apb = 'ABCDEFGHIJKLMNOPQRSTUVWXYZ'\n",
    "apb.swapcase()"
   ]
  },
  {
   "cell_type": "markdown",
   "metadata": {},
   "source": [
    "* 문자의 분리 : split() 메서드\n",
    "  \n",
    "  > split() 매서드는 문자열 리스트 구조를 반환한다."
   ]
  },
  {
   "cell_type": "code",
   "execution_count": 50,
   "metadata": {},
   "outputs": [
    {
     "name": "stdout",
     "output_type": "stream",
     "text": [
      "['이이표', ' 박은천', ' 성낙영', ' 도규현']\n"
     ]
    }
   ],
   "source": [
    "data= '이이표, 박은천, 성낙영, 도규현'\n",
    "data2= data.split(',')\n",
    "print(data2)"
   ]
  },
  {
   "cell_type": "code",
   "execution_count": 51,
   "metadata": {},
   "outputs": [
    {
     "name": "stdout",
     "output_type": "stream",
     "text": [
      "이이표\n",
      " 박은천\n",
      " 성낙영\n",
      " 도규현\n"
     ]
    }
   ],
   "source": [
    "for na in data2: \n",
    "    print(na)"
   ]
  },
  {
   "cell_type": "markdown",
   "metadata": {},
   "source": [
    "* 문자의 결합: join() 메서드"
   ]
  },
  {
   "cell_type": "code",
   "execution_count": 53,
   "metadata": {},
   "outputs": [
    {
     "data": {
      "text/plain": [
       "'이이표: 박은천: 성낙영: 도규현'"
      ]
     },
     "execution_count": 53,
     "metadata": {},
     "output_type": "execute_result"
    }
   ],
   "source": [
    "data3= ':'.join(data2)\n",
    "data3"
   ]
  },
  {
   "cell_type": "markdown",
   "metadata": {},
   "source": [
    "* 문자열 대체: replace() 메서드"
   ]
  },
  {
   "cell_type": "code",
   "execution_count": 55,
   "metadata": {},
   "outputs": [
    {
     "data": {
      "text/plain": [
       "'남의나라 남의니라'"
      ]
     },
     "execution_count": 55,
     "metadata": {},
     "output_type": "execute_result"
    }
   ],
   "source": [
    "k= '우리나라 우리니라'\n",
    "k= k.replace('우리', '남의')\n",
    "k"
   ]
  },
  {
   "cell_type": "markdown",
   "metadata": {},
   "source": [
    "* 문자열 공백 없애기 : strip(), rstrip(), lstrip() 메서드"
   ]
  },
  {
   "cell_type": "code",
   "execution_count": 57,
   "metadata": {},
   "outputs": [
    {
     "data": {
      "text/plain": [
       "'우리나라'"
      ]
     },
     "execution_count": 57,
     "metadata": {},
     "output_type": "execute_result"
    }
   ],
   "source": [
    "a = ' 우리나라 '\n",
    "a = a.strip(' ')\n",
    "a"
   ]
  },
  {
   "cell_type": "code",
   "execution_count": 59,
   "metadata": {},
   "outputs": [
    {
     "data": {
      "text/plain": [
       "'우리나라******'"
      ]
     },
     "execution_count": 59,
     "metadata": {},
     "output_type": "execute_result"
    }
   ],
   "source": [
    "a = '*****우리나라******'\n",
    "a = a.lstrip('*')\n",
    "a"
   ]
  },
  {
   "cell_type": "markdown",
   "metadata": {},
   "source": [
    "* 문자열 내용 검사 메서드\n",
    "  \n",
    "|메서드|동작|\n",
    "|---|---|\n",
    "|.isalpha|문자열이 영문자나 유니코드 문자 인가?|\n",
    "|.isalnum|문자열이 수치 또는 영문자, 유니코드 문자인가?|\n",
    "|.isnumeric()|문자열이 수치인가?|\n",
    "|.islower()|소문자인가?|\n",
    "|.isupper()|대문자인가?|\n",
    "|.isspace()|공백인가?|\n",
    "\n"
   ]
  },
  {
   "cell_type": "code",
   "execution_count": null,
   "metadata": {},
   "outputs": [],
   "source": []
  },
  {
   "cell_type": "markdown",
   "metadata": {},
   "source": [
    "* 문자열 서식지정 메서드\n",
    "  * 주로 print함수와 함께 사용\n",
    "  * {}를 이용하여 데이터의 서식을 지정\n",
    "    \n",
    "    ```\n",
    "    \" {0} {1:>7.2f} \".format(250, 43.9875)\n",
    "    ```\n",
    "|{0} |250|0번째 요소 출력|\n",
    "|---|--------|-------|\n",
    "|{1:>7.2f}|43.9875|1번째 요소를 양식에 맞게 출력    |\n",
    "    \n",
    "    ```\n",
    "    {1:>7.2f} \n",
    "    ```\n",
    "| > | 우측정렬|\n",
    "|---|--------|\n",
    "|7.2|최소 7자리 확보, 소수점이하 두자리 까지|\n",
    "|f| floating point 형태|"
   ]
  },
  {
   "cell_type": "code",
   "execution_count": 61,
   "metadata": {},
   "outputs": [
    {
     "name": "stdout",
     "output_type": "stream",
     "text": [
      " 250   43.99 \n"
     ]
    }
   ],
   "source": [
    "a= \" {0} {1:>7.2f} \".format(250, 43.9875)\n",
    "print(a)"
   ]
  },
  {
   "cell_type": "code",
   "execution_count": 62,
   "metadata": {},
   "outputs": [
    {
     "name": "stdout",
     "output_type": "stream",
     "text": [
      "49.............290\n"
     ]
    }
   ],
   "source": [
    "print(\"{}.............{}\".format(49,290))"
   ]
  },
  {
   "cell_type": "code",
   "execution_count": 63,
   "metadata": {},
   "outputs": [
    {
     "name": "stdout",
     "output_type": "stream",
     "text": [
      "290.............49\n"
     ]
    }
   ],
   "source": [
    "print(\"{1}.............{0}\".format(49,290))"
   ]
  },
  {
   "cell_type": "code",
   "execution_count": 64,
   "metadata": {},
   "outputs": [
    {
     "name": "stdout",
     "output_type": "stream",
     "text": [
      "        49.............       290\n"
     ]
    }
   ],
   "source": [
    "print(\"{0:>10d}.............{1:10d}\".format(49,290))"
   ]
  },
  {
   "cell_type": "code",
   "execution_count": 66,
   "metadata": {},
   "outputs": [
    {
     "name": "stdout",
     "output_type": "stream",
     "text": [
      "십진수=255   이진수=11111111   8진수=377   16진수=ff\n"
     ]
    }
   ],
   "source": [
    "print(\"십진수={0:d}   이진수={0:b}   8진수={0:o}   16진수={0:x}\".format(255))"
   ]
  }
 ],
 "metadata": {
  "kernelspec": {
   "display_name": "Python 3.10.5 64-bit (windows store)",
   "language": "python",
   "name": "python3"
  },
  "language_info": {
   "codemirror_mode": {
    "name": "ipython",
    "version": 3
   },
   "file_extension": ".py",
   "mimetype": "text/x-python",
   "name": "python",
   "nbconvert_exporter": "python",
   "pygments_lexer": "ipython3",
   "version": "3.10.5"
  },
  "orig_nbformat": 4,
  "vscode": {
   "interpreter": {
    "hash": "6be026cc2f54c9bec22506d53e3e394c3402c3c44c1202f9383de7e3faf9cb28"
   }
  }
 },
 "nbformat": 4,
 "nbformat_minor": 2
}
