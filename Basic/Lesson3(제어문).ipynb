{
 "cells": [
  {
   "cell_type": "code",
   "execution_count": null,
   "metadata": {},
   "outputs": [],
   "source": []
  },
  {
   "cell_type": "markdown",
   "metadata": {},
   "source": [
    "# 제어문\n",
    "\n",
    "## if 문 \n",
    "조건에 따라 정해진 문장들을 처리 **(조건문)**\n",
    "\n",
    "```python\n",
    "    if 조건1:\n",
    "        처리할 문장들 A\n",
    "    elif 조건2:\n",
    "        처리할 문장들 B\n",
    "    else:\n",
    "        처리할 문장들 C\n",
    "```\n",
    "\n",
    "## while 문  \n",
    "조건에 따라 정해진 문장들은 반복적으로 처리 **(반복문)**\n",
    "```python\n",
    "    while 조건:         # 거짓이 될때까지 혹은 break를 만날때까지 수행\n",
    "        처리할 문장들    \n",
    "        if ... continue  # continue를 만나면 while 시작점으로 재진입한다.\n",
    "        처리항 문장들\n",
    "        if ... break     # break를 만나면 while 문을 종료한다.\n",
    "\n",
    "```\n",
    "\n",
    "## for 문 \n",
    "집단형 자료에 대해서 순환하면서 정해진 문장들을 반복처리 **(반복문, 순환문)**\n",
    "## try 문 (예외처리)\n",
    "예외상황(Error) 발생에 따른 처리 구성"
   ]
  },
  {
   "cell_type": "markdown",
   "metadata": {},
   "source": [
    "# 예제 if문 "
   ]
  },
  {
   "cell_type": "code",
   "execution_count": 12,
   "metadata": {},
   "outputs": [
    {
     "name": "stdout",
     "output_type": "stream",
     "text": [
      "90\n",
      "passed\n",
      "축하합니다.\n"
     ]
    }
   ],
   "source": [
    "score= input('점수를입력하세요...')\n",
    "score= int(score)\n",
    "print(score)\n",
    "if score >= 60: \n",
    "    print('passed')\n",
    "    print('축하합니다.')\n",
    "else:\n",
    "    print ('다음기회를 기대하겠습니다.')\n",
    "\n"
   ]
  },
  {
   "cell_type": "markdown",
   "metadata": {},
   "source": [
    "### 비교 연산자\n",
    "\n",
    "|연산자|내용|\n",
    "|:-:|---|\n",
    "| a > b | a가 b보다 큰가|\n",
    "| a < b | a가 b보다 작은가|\n",
    "| a >= b| a가 b보다 크거나 같은가|\n",
    "| a <= b| a가 b보다 작거나 같은가|\n",
    "| a == b| a가 b가 같은가|\n",
    "| a != b| a가 b가 다른가|\n",
    "\n",
    "\n",
    "### 파이썬에서 논리상수 True와 False는 각각 1과 0 값이 할당되어 있음\n",
    "\n",
    "* 실제로는 0이 아닌 숫자값과 문자값 등 존재하는 값은 True\n",
    "* 0 할당되지 않은 빈데이터 등은 False로 취급"
   ]
  },
  {
   "cell_type": "code",
   "execution_count": 10,
   "metadata": {},
   "outputs": [
    {
     "name": "stdout",
     "output_type": "stream",
     "text": [
      "True: 10\n",
      "True: \"abd\"\n",
      "0\n",
      "False: 'True - 1'\n",
      "True: '    ' \n",
      "False: '' \n"
     ]
    }
   ],
   "source": [
    "if 10: print('True: 10')\n",
    "if \"abc\": print('True: \"abd\"')\n",
    "print(True-1)   # True는 값이 1이므로 1을 빼면 0이됨.\n",
    "\n",
    "if True-1: print(\"Ture: 'True - 1'\")    \n",
    "else:      print(\"False: 'True - 1'\")   # True-1은 거짓으로 인식\n",
    "if \"    \": print(\"True: '    ' \")       # '    '은 참으로 인식\n",
    "else:      print(\"False: '    ' \")\n",
    "if \"\":     print(\"True: '' \")\n",
    "else:      print(\"False: '' \")          # ''은 거짓으로 인식\n",
    "\n"
   ]
  },
  {
   "cell_type": "markdown",
   "metadata": {},
   "source": [
    "## 논리 연산자\n",
    "좌우의 논리값을 비교하여 True 또는 False를 반환\n",
    "\n",
    "|연산자|내용|\n",
    "|---|---|\n",
    "| not a | 논리 부정: 참이면 거짓으로 거짓이면 참으로 |\n",
    "| a and b | 논리곱: 두 값 모두 참일 때만 참 반환|\n",
    "| a or b | 논리합: 두 값 모두 거짓일 때만 거짓 반환|\n",
    "\n",
    "* 계산 우선 순위 \n",
    "\n",
    "비교 연산을 먼저 한 후 논리연산자 수행\n",
    "``` python\n",
    "if 5>2 and 'a' < 'b': print ('all true')\n",
    "```\n"
   ]
  },
  {
   "cell_type": "code",
   "execution_count": 17,
   "metadata": {},
   "outputs": [
    {
     "name": "stdout",
     "output_type": "stream",
     "text": [
      "all true\n",
      "ok\n",
      "not a - 40\n",
      "-40\n"
     ]
    }
   ],
   "source": [
    "if 5>2 and 'a' < 'b': print ('all true')\n",
    "a,b,c,d, = 40, 20, 60, 70\n",
    "if a > b and c < d : print('ok')\n",
    "if not a - 40 : print (\"not a - 40\")\n",
    "if not a : print (\"not a\")\n",
    "if -40 : print (\"-40\")\n",
    "\n"
   ]
  },
  {
   "cell_type": "markdown",
   "metadata": {},
   "source": [
    "# 연습문제\n",
    "\n",
    "1. 사용자로 부터 나이를 입력 받는다.\n",
    "2. 입력된 나이를 출력해준다.\n",
    "3. if문을 구성하여,\n",
    "     - 5살 미안인 경우 \"유아에 해당합니다.\"\n",
    "     - 5살 이상 10살 미만인 경우 \"어린이에 해당합니다.\"\n",
    "     - 10상 이상 19살 이하 인경우 \"학생입니다\"\n",
    "     - 그외의 경우 \"성인에 해당합니다.\"를 출력하라."
   ]
  },
  {
   "cell_type": "code",
   "execution_count": 24,
   "metadata": {},
   "outputs": [
    {
     "name": "stdout",
     "output_type": "stream",
     "text": [
      "당신의 나이는 9살 입니다.\n",
      "어린이에 해당합니다.\n"
     ]
    }
   ],
   "source": [
    "age= input('나이를 입력하세요...')\n",
    "age=int(age)\n",
    "print('당신의 나이는 {0}살 입니다.'.format(age))\n",
    "\n",
    "if age < 5:\n",
    "    print(\"유아에 해당합니다.\")\n",
    "elif 5 <= age < 10 : \n",
    "    print(\"어린이에 해당합니다.\")\n",
    "elif 10 <= age <= 19 :\n",
    "    print(\"학생입니다.\")\n",
    "else:\n",
    "    print(\"성인에 해당합니다.\")"
   ]
  },
  {
   "cell_type": "markdown",
   "metadata": {},
   "source": [
    "# 연습문제 \n",
    "\n",
    "* 예제 while 문  "
   ]
  },
  {
   "cell_type": "code",
   "execution_count": 26,
   "metadata": {},
   "outputs": [
    {
     "name": "stdout",
     "output_type": "stream",
     "text": [
      "55\n"
     ]
    }
   ],
   "source": [
    "total= 0\n",
    "n= 0\n",
    "while n < 10 :\n",
    "    n = n + 1\n",
    "    total = total + n\n",
    "print (total)"
   ]
  },
  {
   "cell_type": "code",
   "execution_count": 29,
   "metadata": {},
   "outputs": [
    {
     "name": "stdout",
     "output_type": "stream",
     "text": [
      "당신의 나이는2살 입니다.\n",
      "당사 고객 지원 체계 유아에 해당합니다.\n",
      "당신의 나이는6살 입니다.\n",
      "당사 고객 지원 체계 어린이에 해당합니다.\n",
      "당신의 나이는15살 입니다.\n",
      "당사 고객 지원 체계 학생입니다.\n",
      "당신의 나이는33살 입니다.\n",
      "당사 고객 지원 체계 성인에 해당합니다.\n",
      "프로그램을 종료합니다\n"
     ]
    }
   ],
   "source": [
    "while True:\n",
    "    age= input('나이를 입력하세요...')\n",
    "    if age == \"200\" :\n",
    "        print('프로그램을 종료합니다')\n",
    "        break\n",
    "  \n",
    "    age=int(age)\n",
    "    print('당신의 나이는' + str(age) + '살 입니다.')\n",
    "    print (\"당사 고객 지원 체계 \", end='')\n",
    "\n",
    "    if age < 5:\n",
    "        print(\"유아에 해당합니다.\")\n",
    "    elif 5 <= age < 10 : \n",
    "        print(\"어린이에 해당합니다.\")\n",
    "    elif 10 <= age <= 19 :\n",
    "        print(\"학생입니다.\")\n",
    "    else:\n",
    "        print(\"성인에 해당합니다.\")"
   ]
  }
 ],
 "metadata": {
  "kernelspec": {
   "display_name": "Python 3.10.5 64-bit (windows store)",
   "language": "python",
   "name": "python3"
  },
  "language_info": {
   "codemirror_mode": {
    "name": "ipython",
    "version": 3
   },
   "file_extension": ".py",
   "mimetype": "text/x-python",
   "name": "python",
   "nbconvert_exporter": "python",
   "pygments_lexer": "ipython3",
   "version": "3.10.5"
  },
  "orig_nbformat": 4,
  "vscode": {
   "interpreter": {
    "hash": "6be026cc2f54c9bec22506d53e3e394c3402c3c44c1202f9383de7e3faf9cb28"
   }
  }
 },
 "nbformat": 4,
 "nbformat_minor": 2
}
