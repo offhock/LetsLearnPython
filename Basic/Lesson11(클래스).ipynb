{
 "cells": [
  {
   "cell_type": "code",
   "execution_count": null,
   "metadata": {},
   "outputs": [],
   "source": []
  },
  {
   "cell_type": "markdown",
   "metadata": {},
   "source": [
    "# 클래스(Class)와 오브젝트(object)\n",
    "\n",
    "* 파이썬 클래스 만들어 보기\n",
    "  * hello class, 간단힌 클래스 생서\n",
    "* 클래스 정의\n",
    "  ```python\n",
    "    class Hello():\n",
    "      def sayhello(self, hellostring, count=1):\n",
    "        for i in range(count):\n",
    "          print(hellostring)      \n",
    "  ```\n",
    "* 클래스 사용\n",
    "  ``` python\n",
    "    h1= Hello()                       # 클래스의  인스턴스 생성\n",
    "    h1.sayhello(\"hi\",4)\n",
    "    h1.sayhello(\"have a nice day\", 2)\n",
    "    h2 =Hello()                       # 클래스의 인스턴스 생성\n",
    "    h2.sayhello(\"good mornig\", 2)\n",
    "  ```\n",
    "\n",
    "## 클래스 정의와 생성\n",
    "\n",
    "* 클래스 정의\n",
    "  ```python\n",
    "      class 클래스명:\n",
    "        def 함수명 (self, 인자1, 인자2, ...):\n",
    "          ...        \n",
    "\n",
    "  ```\n",
    "* self 키워드\n",
    "  * 클래스 정의시 모든 메서드의 첫번째 인자는 반드시 `self`이다.\n",
    "  * 객체 자긴의 참조를 의미\n",
    "  * self를 통해 클래스 내의 변수나 함수에 접근 가능\n",
    "  * self를 누락하면 오류 발생\n",
    "\n"
   ]
  },
  {
   "cell_type": "markdown",
   "metadata": {},
   "source": [
    "## 생성자\n",
    "\n",
    "* 개요\n",
    "  * 객체가 생성될 때 저절로 수행되는 메서드\n",
    "  * `__init__` 이름으로 정의된다.\n",
    "\n",
    "``` python\n",
    "        class Sample():\n",
    "            def __init__(self):\n",
    "                self.value= 0\n",
    "            def get(self):\n",
    "                return self.value\n",
    "            def set(self, val):\n",
    "                self.value= val      \n",
    "```\n"
   ]
  },
  {
   "cell_type": "code",
   "execution_count": 2,
   "metadata": {},
   "outputs": [
    {
     "name": "stdout",
     "output_type": "stream",
     "text": [
      "hi\n",
      "hi\n",
      "hi\n",
      "hi\n",
      "have a nice day\n",
      "have a nice day\n",
      "good mornig\n",
      "good mornig\n",
      "6\n",
      "2\n"
     ]
    }
   ],
   "source": [
    "# 예제\n",
    "\n",
    "class Hello():\n",
    "    def __init__(self):\n",
    "        self.count=0\n",
    "        \n",
    "    def sayhello(self, hellostring, count=1):\n",
    "        for i in range(count):\n",
    "            print(hellostring)  \n",
    "        self.count += count\n",
    "    def showcount(self):\n",
    "        return self.count\n",
    "\n",
    "if __name__ == '__main__':\n",
    "              \n",
    "    h1= Hello()                       # 클래스의  인스턴스 생성\n",
    "    h1.sayhello(\"hi\",4)\n",
    "    h1.sayhello(\"have a nice day\", 2)\n",
    "    h2 =Hello()                       # 클래스의 인스턴스 생성\n",
    "    h2.sayhello(\"good mornig\", 2)            \n",
    "    \n",
    "    print(h1.showcount())\n",
    "    print(h2.showcount())\n",
    "    "
   ]
  },
  {
   "cell_type": "markdown",
   "metadata": {},
   "source": [
    "## 클래스 예제: GUI에 클래스 활용"
   ]
  },
  {
   "cell_type": "code",
   "execution_count": 6,
   "metadata": {},
   "outputs": [
    {
     "name": "stdout",
     "output_type": "stream",
     "text": [
      "value is 123\n",
      "value is 11\n",
      "value is 11\n",
      "value is 11\n",
      "value is 11123\n"
     ]
    }
   ],
   "source": [
    "from tkinter import *\n",
    "\n",
    "class MyDialog():\n",
    "    \n",
    "    def __init__(self,parent):\n",
    "        \n",
    "        Label(parent, text=\"값입력\").pack()\n",
    "    \n",
    "        self.e= Entry(parent)\n",
    "        self.e.pack(padx=5)\n",
    "        \n",
    "        self.b= Button(parent, text=\"확인\", command=self.ok_click)\n",
    "        self.b.pack(pady=5)\n",
    "        \n",
    "    def ok_click(self):\n",
    "        print(\"value is\", self.e.get())\n",
    "\n",
    "root= Tk()\n",
    "\n",
    "a= MyDialog(Tk())\n",
    "a= MyDialog(Tk())\n",
    "a= MyDialog(root)\n",
    "\n",
    "root.mainloop()   \n",
    "        \n",
    "        "
   ]
  },
  {
   "cell_type": "markdown",
   "metadata": {},
   "source": [
    "## 파이썬 클래스 접근 지정\n",
    "\n",
    "* 접근 지정자\n",
    "  * 외부에서 클래스 내부 멤버에 접근을 허용 또는 불허를 결정하는 지정자\n",
    "\n",
    "\n",
    "* 일반적으로는 public, private, protected 로 구분되지만,   \n",
    "  * public: 허용  \n",
    "  * private: 불허(정보 은닉)  \n",
    "  * protected: 상속관계에서 자식에게만 허용  \n",
    "  \n",
    "* 파이썬은 기본적으로 public 으로 인식 하고, private을 원할때는  \n",
    "  변수명에 `__name`, `_name`을 사용한다.\n",
    "\n",
    "파이썬에서의 클래스는 `네임스페이스` 성격이 강하다."
   ]
  },
  {
   "cell_type": "code",
   "execution_count": 9,
   "metadata": {},
   "outputs": [
    {
     "name": "stdout",
     "output_type": "stream",
     "text": [
      "hi\n",
      "hi\n",
      "hi\n",
      "hi\n",
      "have a nice day\n",
      "have a nice day\n",
      "good mornig\n",
      "good mornig\n",
      "6\n",
      "2\n"
     ]
    }
   ],
   "source": [
    "# 예제 count 변수 외부 접근 금지를 위해서 self.__count로 정의\n",
    "\n",
    "\n",
    "class Hello():\n",
    "    def __init__(self):\n",
    "        self.__count=0\n",
    "        \n",
    "    def sayhello(self, hellostring, count=1):\n",
    "        for i in range(count):\n",
    "            print(hellostring)  \n",
    "        self.__count += count\n",
    "    def showcount(self):\n",
    "        return self.__count\n",
    "\n",
    "if __name__ == '__main__':\n",
    "              \n",
    "    h1= Hello()                       # 클래스의  인스턴스 생성\n",
    "    h1.sayhello(\"hi\",4)\n",
    "    h1.sayhello(\"have a nice day\", 2)\n",
    "    h2 =Hello()                       # 클래스의 인스턴스 생성\n",
    "    h2.sayhello(\"good mornig\", 2)            \n",
    "    \n",
    "    print(h1.showcount())\n",
    "    print(h2.showcount())\n",
    "    \n",
    "    #print(h1.__count)\n",
    "    "
   ]
  },
  {
   "cell_type": "code",
   "execution_count": 12,
   "metadata": {},
   "outputs": [
    {
     "name": "stdout",
     "output_type": "stream",
     "text": [
      "한국 123\n",
      "20000\n",
      "6\n"
     ]
    }
   ],
   "source": [
    "# 문제점\n",
    "# 앞서 정의한 클래스에 있지도 않은 변수를 지정했더니, 정의가 된다.  ????\n",
    "# 파이썬 클래스의 특징이므로 알아두자!!\n",
    "\n",
    "h1.sss= \"한국\"\n",
    "h1.bbb= 123\n",
    "print(h1.sss, h1.bbb)\n",
    "\n",
    "h1.__count=20000        # self에 있던 __count이름으로 재정의해보았으나, 새로운 변수 정의됨\n",
    "print(h1.__count)       \n",
    "print(h1.showcount())   # 실재 self의 __count 변수값을 출력"
   ]
  },
  {
   "cell_type": "markdown",
   "metadata": {},
   "source": [
    "## 사용 가능한 멤버 변수 고정하기\n",
    "\n",
    "* 멤버변수 고정하기\n",
    "  * `__slots__`를 이용하여 사용할 멤버를 미리 등록\n",
    "  * 신규 속성 정의시 에러 발생"
   ]
  },
  {
   "cell_type": "code",
   "execution_count": 15,
   "metadata": {},
   "outputs": [
    {
     "ename": "AttributeError",
     "evalue": "'hello' object has no attribute 'sss'",
     "output_type": "error",
     "traceback": [
      "\u001b[1;31m---------------------------------------------------------------------------\u001b[0m",
      "\u001b[1;31mAttributeError\u001b[0m                            Traceback (most recent call last)",
      "\u001b[1;32mc:\\Users\\offho\\Code\\LetsLearnPython\\Basic\\Lesson11(클래스).ipynb 셀 11\u001b[0m in \u001b[0;36m<cell line: 7>\u001b[1;34m()\u001b[0m\n\u001b[0;32m      <a href='vscode-notebook-cell:/c%3A/Users/offho/Code/LetsLearnPython/Basic/Lesson11%28%ED%81%B4%EB%9E%98%EC%8A%A4%29.ipynb#ch0000010?line=3'>4</a>\u001b[0m         \u001b[39mself\u001b[39m\u001b[39m.\u001b[39m__count\u001b[39m=\u001b[39m \u001b[39m0\u001b[39m\n\u001b[0;32m      <a href='vscode-notebook-cell:/c%3A/Users/offho/Code/LetsLearnPython/Basic/Lesson11%28%ED%81%B4%EB%9E%98%EC%8A%A4%29.ipynb#ch0000010?line=5'>6</a>\u001b[0m h1\u001b[39m=\u001b[39m hello()\n\u001b[1;32m----> <a href='vscode-notebook-cell:/c%3A/Users/offho/Code/LetsLearnPython/Basic/Lesson11%28%ED%81%B4%EB%9E%98%EC%8A%A4%29.ipynb#ch0000010?line=6'>7</a>\u001b[0m h1\u001b[39m.\u001b[39msss\u001b[39m=\u001b[39m \u001b[39m\"\u001b[39m\u001b[39m한국\u001b[39m\u001b[39m\"\u001b[39m\n",
      "\u001b[1;31mAttributeError\u001b[0m: 'hello' object has no attribute 'sss'"
     ]
    }
   ],
   "source": [
    "class hello:\n",
    "    __slots__ = ['__count']     #  slots에 있는 멤버만 허용\n",
    "    def __init__(self):\n",
    "        self.__count= 0\n",
    "\n",
    "h1= hello()\n",
    "h1.sss= \"한국\"           # 새로운 멤버 가 정의되었으므로 에러 발생\n"
   ]
  },
  {
   "cell_type": "markdown",
   "metadata": {},
   "source": [
    "## 클래스 변수와 인스턴스 변수\n",
    "\n",
    "* 클래스 맴버 변수\n",
    "  * 클래스 네임스페이스에 생성\n",
    "  * 모든 인스턴스 객체에 공유된다.\n",
    "  * 동적 추가 가능\n",
    "* 인스턴스 멤버 변수\n",
    "  * 해당 인스턴스 네임스페이스에 생성\n",
    "  * 해당 인스턴스 객체 내에서만 참조\n",
    "  * 동적 추가 가능"
   ]
  },
  {
   "cell_type": "code",
   "execution_count": 24,
   "metadata": {},
   "outputs": [
    {
     "name": "stdout",
     "output_type": "stream",
     "text": [
      "인스턴스 멤버1번 인스턴스 :  클래스 멤버1번 인스턴스 : \n",
      "인스턴스 멤버1번 인스턴스 :  클래스 멤버2번 인스턴스 : \n",
      "인스턴스 멤버1번 인스턴스 :  클래스 멤버3번 인스턴스 : \n",
      "인스턴스 멤버1번 인스턴스 :  클래스 멤버4번 인스턴스 : \n"
     ]
    }
   ],
   "source": [
    "# 클래스 변수 와 인스턴스 변수\n",
    "\n",
    "class Test:\n",
    "    number_test= 0              # 클래스 멤버로 사용\n",
    "    number_self= 0              # 인스턴스 멤버로 사용\n",
    "    \n",
    "    def __init__(self):\n",
    "        Test.number_test +=1    # 클래스 멤버 증가\n",
    "        self.number_self +=1    # 인스턴스 멤버 증가\n",
    "        Test.name_test= \"클래스 멤버\" + str(Test.number_test)+ \"번 인스턴스 : \"\n",
    "        self.name_self= \"인스턴스 멤버\" + str(self.number_self)+ \"번 인스턴스 : \"\n",
    "        \n",
    "if __name__ == '__main__':\n",
    "    \n",
    "    a= Test(); print(a.name_self, a.name_test);\n",
    "    b= Test(); print(b.name_self, b.name_test);\n",
    "    c= Test(); print(c.name_self, c.name_test);\n",
    "    d= Test(); print(d.name_self, d.name_test)\n",
    "    \n",
    "    "
   ]
  },
  {
   "cell_type": "markdown",
   "metadata": {},
   "source": [
    "### 클래스 변수 동적 추가\n",
    "\n",
    "클래스 생성후 클래스에 동적으로 변수를 추가할 시 모든 인스턴스에서 공유됨."
   ]
  },
  {
   "cell_type": "code",
   "execution_count": 25,
   "metadata": {},
   "outputs": [
    {
     "name": "stdout",
     "output_type": "stream",
     "text": [
      "100\n"
     ]
    }
   ],
   "source": [
    "# 클래스 변수 동적 추가\n",
    "\n",
    "class Sample:\n",
    "    data =100\n",
    "\n",
    "print(Sample.data)"
   ]
  },
  {
   "cell_type": "code",
   "execution_count": 26,
   "metadata": {},
   "outputs": [
    {
     "name": "stdout",
     "output_type": "stream",
     "text": [
      "파이썬\n"
     ]
    }
   ],
   "source": [
    "# Samlpe 클래스에 없는 클래스 멤버 생성\n",
    "Sample.world=\"파이썬\"       \n",
    "print(Sample.world)"
   ]
  },
  {
   "cell_type": "code",
   "execution_count": 30,
   "metadata": {},
   "outputs": [
    {
     "data": {
      "text/plain": [
       "(100, '파이썬')"
      ]
     },
     "execution_count": 30,
     "metadata": {},
     "output_type": "execute_result"
    }
   ],
   "source": [
    "# 인스턴스 s1 생성\n",
    "s1=Sample()\n",
    "s1.data, s1.world"
   ]
  },
  {
   "cell_type": "code",
   "execution_count": 31,
   "metadata": {},
   "outputs": [
    {
     "data": {
      "text/plain": [
       "(100, '파이썬')"
      ]
     },
     "execution_count": 31,
     "metadata": {},
     "output_type": "execute_result"
    }
   ],
   "source": [
    "# 인스턴스 s2 생성\n",
    "s2=Sample()\n",
    "s2.data, s2.world"
   ]
  },
  {
   "cell_type": "markdown",
   "metadata": {},
   "source": [
    "### 인스턴스 변수 동적 추가\n",
    "\n",
    "인스턴스에 변수 동적 추가시 해당 인스턴스에서만 접근 가능함."
   ]
  },
  {
   "cell_type": "code",
   "execution_count": 32,
   "metadata": {},
   "outputs": [
    {
     "data": {
      "text/plain": [
       "'거리'"
      ]
     },
     "execution_count": 32,
     "metadata": {},
     "output_type": "execute_result"
    }
   ],
   "source": [
    "# s3 인스턴스에 street 멤버 추가 \n",
    "s3=Sample()\n",
    "s3.street = \"거리\"\n",
    "s3.street"
   ]
  },
  {
   "cell_type": "code",
   "execution_count": 33,
   "metadata": {},
   "outputs": [
    {
     "ename": "AttributeError",
     "evalue": "'Sample' object has no attribute 'street'",
     "output_type": "error",
     "traceback": [
      "\u001b[1;31m---------------------------------------------------------------------------\u001b[0m",
      "\u001b[1;31mAttributeError\u001b[0m                            Traceback (most recent call last)",
      "\u001b[1;32mc:\\Users\\offho\\Code\\LetsLearnPython\\Basic\\Lesson11(클래스).ipynb 셀 21\u001b[0m in \u001b[0;36m<cell line: 2>\u001b[1;34m()\u001b[0m\n\u001b[0;32m      <a href='vscode-notebook-cell:/c%3A/Users/offho/Code/LetsLearnPython/Basic/Lesson11%28%ED%81%B4%EB%9E%98%EC%8A%A4%29.ipynb#ch0000020?line=0'>1</a>\u001b[0m s4\u001b[39m=\u001b[39mSample()\n\u001b[1;32m----> <a href='vscode-notebook-cell:/c%3A/Users/offho/Code/LetsLearnPython/Basic/Lesson11%28%ED%81%B4%EB%9E%98%EC%8A%A4%29.ipynb#ch0000020?line=1'>2</a>\u001b[0m s4\u001b[39m.\u001b[39;49mstreet\n",
      "\u001b[1;31mAttributeError\u001b[0m: 'Sample' object has no attribute 'street'"
     ]
    }
   ],
   "source": [
    "# 새로운 s4 인스턴스에는 street 멤버가 없음\n",
    "s4=Sample()\n",
    "s4.street"
   ]
  }
 ],
 "metadata": {
  "kernelspec": {
   "display_name": "Python 3.10.5 64-bit (windows store)",
   "language": "python",
   "name": "python3"
  },
  "language_info": {
   "codemirror_mode": {
    "name": "ipython",
    "version": 3
   },
   "file_extension": ".py",
   "mimetype": "text/x-python",
   "name": "python",
   "nbconvert_exporter": "python",
   "pygments_lexer": "ipython3",
   "version": "3.10.5"
  },
  "orig_nbformat": 4,
  "vscode": {
   "interpreter": {
    "hash": "6be026cc2f54c9bec22506d53e3e394c3402c3c44c1202f9383de7e3faf9cb28"
   }
  }
 },
 "nbformat": 4,
 "nbformat_minor": 2
}
