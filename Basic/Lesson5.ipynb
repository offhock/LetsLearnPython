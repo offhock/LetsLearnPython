{
 "cells": [
  {
   "cell_type": "markdown",
   "metadata": {},
   "source": [
    "# 리스트 \n",
    "\n",
    "파이썬의 리스트는 길이, 형식 등 무관하게 사용할 수 있다.\n",
    "\n",
    "\n",
    "|구분|자료형(type)|내용|예|\n",
    "|---|---|---|---|\n",
    "|논리형|bool|참 또는 거짓|True, False| \n",
    "|수치형|int<br>float<br>complex|정수<br>실수<br>복소수|123<br>20.33<br>10+j2|\n",
    "|문자열|str<br>byte|유니코드 문자열<br>1바이트문자열|\"한국\",'Korea',\"\"\"한국\"\"\", '''Korea'''<br>b'Korea'|\n",
    "|집단자료형| list<br>tuple<br>dict<br>Set|순서화 집단형 자료표현(내용 수정 가능)<br>순서화 집단형 자료표현(내용 수정 불가)<br>비순서 집단형 자료표현(key 사용 접근)<br>집합을 표현하는 자료|[25, 48, 96, '한국]  [] <br>(25, 96, 'Korea')   ()<br> {'김':55, '박':77}   {}<br> {1,2,3,4}    {}|"
   ]
  },
  {
   "cell_type": "markdown",
   "metadata": {},
   "source": [
    "## 리스트 정의\n",
    "\n",
    "- 하나의 변수명으로 여러 객체를 기억할 수 있는 집단형 자료\n",
    "- 요소들을 순서대로 저장하는 시퀀스 자료\n",
    "- 요소의 크기, 유형, 데이터의 크기등 상관없는 동적 구조\n",
    "- 사용 중 변경 할 수 있다.\n",
    "\n",
    "``` python\n",
    "    변수 = [값]\n",
    "```\n",
    "\n",
    "``` python\n",
    "    my_list= ['한국', '미국', '중국', '일본']\n",
    "    my_linst[1] --> '한국'\n",
    "```"
   ]
  },
  {
   "cell_type": "code",
   "execution_count": 4,
   "metadata": {},
   "outputs": [
    {
     "data": {
      "text/plain": [
       "'미국'"
      ]
     },
     "execution_count": 4,
     "metadata": {},
     "output_type": "execute_result"
    }
   ],
   "source": [
    "my_list= ['한국', '미국', '중국', '일본']\n",
    "my_list[1]"
   ]
  },
  {
   "cell_type": "code",
   "execution_count": 3,
   "metadata": {},
   "outputs": [
    {
     "data": {
      "text/plain": [
       "['한국', '미국']"
      ]
     },
     "execution_count": 3,
     "metadata": {},
     "output_type": "execute_result"
    }
   ],
   "source": [
    "my_list[0:2]"
   ]
  },
  {
   "cell_type": "code",
   "execution_count": 5,
   "metadata": {},
   "outputs": [
    {
     "name": "stdout",
     "output_type": "stream",
     "text": [
      "미국 있음\n"
     ]
    }
   ],
   "source": [
    "if \"미국\" in my_list:\n",
    "    print('미국 있음')"
   ]
  },
  {
   "cell_type": "code",
   "execution_count": 6,
   "metadata": {},
   "outputs": [
    {
     "data": {
      "text/plain": [
       "['한국', '미국', '중국', '인도']"
      ]
     },
     "execution_count": 6,
     "metadata": {},
     "output_type": "execute_result"
    }
   ],
   "source": [
    "my_list[3] = '인도'\n",
    "my_list"
   ]
  },
  {
   "cell_type": "code",
   "execution_count": 9,
   "metadata": {},
   "outputs": [
    {
     "data": {
      "text/plain": [
       "['한국', '미국', 2500, '인도']"
      ]
     },
     "execution_count": 9,
     "metadata": {},
     "output_type": "execute_result"
    }
   ],
   "source": [
    "my_list[2] = 2500\n",
    "my_list"
   ]
  },
  {
   "cell_type": "code",
   "execution_count": 10,
   "metadata": {},
   "outputs": [
    {
     "data": {
      "text/plain": [
       "[0, 1, 2, 3, 4]"
      ]
     },
     "execution_count": 10,
     "metadata": {},
     "output_type": "execute_result"
    }
   ],
   "source": [
    "# 엱산자 활용\n",
    "\n",
    "a = list(range(5))\n",
    "a"
   ]
  },
  {
   "cell_type": "code",
   "execution_count": 12,
   "metadata": {},
   "outputs": [
    {
     "data": {
      "text/plain": [
       "[0, 1, 2, 3, 4, 0, 1, 2, 3, 4]"
      ]
     },
     "execution_count": 12,
     "metadata": {},
     "output_type": "execute_result"
    }
   ],
   "source": [
    "b= a + a\n",
    "b"
   ]
  },
  {
   "cell_type": "code",
   "execution_count": 13,
   "metadata": {},
   "outputs": [
    {
     "data": {
      "text/plain": [
       "[0, 1, 2, 3, 4, 0, 1, 2, 3, 4, 0, 1, 2, 3, 4]"
      ]
     },
     "execution_count": 13,
     "metadata": {},
     "output_type": "execute_result"
    }
   ],
   "source": [
    "a*3"
   ]
  },
  {
   "cell_type": "markdown",
   "metadata": {},
   "source": [
    "## 리스트 중첩\n",
    "\n",
    "파이썬의 리스트는 리스트를 포함할 수 있다. \n",
    "``` python\n",
    "a=[1,2,3]\n",
    "b=[a,\"한국\",\"미국\"]\n",
    "b\n",
    "\n",
    "output:\n",
    "[[1, 2, 3], '한국', '미국']\n",
    "```"
   ]
  },
  {
   "cell_type": "code",
   "execution_count": 14,
   "metadata": {},
   "outputs": [
    {
     "data": {
      "text/plain": [
       "[[1, 2, 3], '한국', '미국']"
      ]
     },
     "execution_count": 14,
     "metadata": {},
     "output_type": "execute_result"
    }
   ],
   "source": [
    "# 리스트 중첩\n",
    "a=[1,2,3]\n",
    "b=[a,\"한국\",\"미국\"]\n",
    "b"
   ]
  },
  {
   "cell_type": "code",
   "execution_count": 16,
   "metadata": {},
   "outputs": [
    {
     "data": {
      "text/plain": [
       "([1, 2, 3], 2)"
      ]
     },
     "execution_count": 16,
     "metadata": {},
     "output_type": "execute_result"
    }
   ],
   "source": [
    "b[0], b[0][1]"
   ]
  },
  {
   "cell_type": "markdown",
   "metadata": {},
   "source": [
    "## 리스트 메소드\n",
    "list = [1,2,3,4,5]\n",
    "\n",
    "* list.append(b)   : 맨뒤에 b를 추가\n",
    "* list.insert(index,b)   :  index 위치에 b를 삽입\n",
    "* list.count(b)    : b의 개수 \n",
    "* list.index(b)    : b의 인덱스\n",
    "* list.sort(b)   : 정렬\n",
    "* list.remoce(b)   : b를 제거\n",
    "* list.extend(list_b) : 리스트 list_b를 여러개의 요소로 확장 \n",
    "* list.append(list_b) : 리스트 list_b를 하나의 요소로 추가\n",
    "* list.split (b):   b를 기준으로 리스트를 구분"
   ]
  },
  {
   "cell_type": "code",
   "execution_count": 17,
   "metadata": {},
   "outputs": [
    {
     "data": {
      "text/plain": [
       "[10, 20, 40, 80, 90, 100]"
      ]
     },
     "execution_count": 17,
     "metadata": {},
     "output_type": "execute_result"
    }
   ],
   "source": [
    "a = [10,20,40]\n",
    "a.extend ([80,90,100])\n",
    "a"
   ]
  },
  {
   "cell_type": "code",
   "execution_count": 18,
   "metadata": {},
   "outputs": [
    {
     "data": {
      "text/plain": [
       "[10, 20, 40, [80, 90, 100]]"
      ]
     },
     "execution_count": 18,
     "metadata": {},
     "output_type": "execute_result"
    }
   ],
   "source": [
    "a = [10,20,40]\n",
    "a.append ([80,90,100])\n",
    "a"
   ]
  },
  {
   "cell_type": "code",
   "execution_count": 31,
   "metadata": {},
   "outputs": [
    {
     "name": "stdout",
     "output_type": "stream",
     "text": [
      "['가', ' 69', ' 100', '100']\n",
      "['나', ' 100', '98', '98']\n",
      "['다', ' 88', ' 96', ' 90']\n",
      "['라', ' 88', ' 98', '97']\n",
      "['마', ' 99', '44', '66']\n",
      "['바', ' 88', '69', '100 ']\n",
      "['가', 69, 100, 100, 269, 89]\n",
      "['나', 100, 98, 98, 296, 98]\n",
      "['다', 88, 96, 90, 274, 91]\n",
      "['라', 88, 98, 97, 283, 94]\n",
      "['마', 99, 44, 66, 209, 69]\n",
      "['바', 88, 69, 100, 257, 85]\n",
      "총점 순 정렬 \n",
      "['나', 100, 98, 98, 296, 98]\n",
      "['라', 88, 98, 97, 283, 94]\n",
      "['다', 88, 96, 90, 274, 91]\n",
      "['가', 69, 100, 100, 269, 89]\n",
      "['바', 88, 69, 100, 257, 85]\n",
      "['마', 99, 44, 66, 209, 69]\n"
     ]
    },
    {
     "data": {
      "text/plain": [
       "[['나', 100, 98, 98, 296, 98, 1],\n",
       " ['라', 88, 98, 97, 283, 94, 2],\n",
       " ['다', 88, 96, 90, 274, 91, 3],\n",
       " ['가', 69, 100, 100, 269, 89, 4],\n",
       " ['바', 88, 69, 100, 257, 85, 5],\n",
       " ['마', 99, 44, 66, 209, 69, 6]]"
      ]
     },
     "execution_count": 31,
     "metadata": {},
     "output_type": "execute_result"
    }
   ],
   "source": [
    "# 실습\n",
    "\n",
    "basedata = '''가, 69, 100,100\n",
    "나, 100,98,98\n",
    "다, 88, 96, 90\n",
    "라, 88, 98,97\n",
    "마, 99,44,66\n",
    "바, 88,69,100 '''\n",
    "\n",
    "data= basedata.split('\\n')          # 데이터를 '\\n'으로 구분해서 1차원 리스트 생성\n",
    "\n",
    "for i in range(len(data)):          \n",
    "    data[i]= data[i].split(',')     # 1차원 리스트내 ','로 구분해서 2차원 리스트 생성\n",
    "    print (data[i])\n",
    "\n",
    "for k in range(len(data)):\n",
    "    sum=0\n",
    "    for j in range(1,4):\n",
    "        data[k][j] = int(data[k][j])    # 2차원 리스트내 문자를 숫자로 변환하고 합산\n",
    "        sum += data[k][j]\n",
    "    \n",
    "    data[k].append(sum)             # 총점을 1차원 리스트에 추가\n",
    "    av = int(sum/3)\n",
    "    data[k].append(av)              # 평균을 1차원 리스트에 추가\n",
    "    print(data[k])\n",
    "\n",
    "\n",
    "data.sort(key= lambda temp: temp[4], reverse=True)   # 람다 함수를 이용하여 4번째 항목으로 정렬\n",
    "\n",
    "# 석차를 구하는 알고리즘\n",
    "# 모든 레코드에 숫자 '1'을 할당하여, 비교전 모두가 1등이라고 지정하고,\n",
    "# 각 레코드 끼리 일대일 비교를 통해서 작은 값에 1을 더 해줘 석차를 1씩 증가 시킨다.\n",
    "# 반복하면 전체 석차를 구할 수 있다.\n",
    "\n",
    "print ('총점 순 정렬 ')\n",
    "for k in range(len(data)):   print(data[k])         # 총점순 출력\n",
    "for k in range(len(data)):   data[k].append(1)      # 모든 1차원 리스트에 석차 값`1`을 추가\n",
    "for k in range(len(data)):\n",
    "    for l in range(k+1, len(data)):\n",
    "        if data[k][4] < data[l][4]:                 # 비교해서 작은 쪽의 석차를 1 씩 증가한다.\n",
    "            data[k][6] +=1              \n",
    "        elif data[k][4] > data[l][4]:\n",
    "            data[l][6] +=1\n",
    "\n",
    "data\n",
    "\n"
   ]
  }
 ],
 "metadata": {
  "kernelspec": {
   "display_name": "Python 3.10.5 64-bit (windows store)",
   "language": "python",
   "name": "python3"
  },
  "language_info": {
   "codemirror_mode": {
    "name": "ipython",
    "version": 3
   },
   "file_extension": ".py",
   "mimetype": "text/x-python",
   "name": "python",
   "nbconvert_exporter": "python",
   "pygments_lexer": "ipython3",
   "version": "3.10.5"
  },
  "orig_nbformat": 4,
  "vscode": {
   "interpreter": {
    "hash": "6be026cc2f54c9bec22506d53e3e394c3402c3c44c1202f9383de7e3faf9cb28"
   }
  }
 },
 "nbformat": 4,
 "nbformat_minor": 2
}
